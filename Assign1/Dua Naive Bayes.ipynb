{
  "nbformat": 4,
  "nbformat_minor": 0,
  "metadata": {
    "colab": {
      "name": "Untitled20.ipynb",
      "provenance": [],
      "collapsed_sections": []
    },
    "kernelspec": {
      "name": "python3",
      "display_name": "Python 3"
    },
    "language_info": {
      "name": "python"
    }
  },
  "cells": [
    {
      "cell_type": "code",
      "metadata": {
        "id": "aTvQS-MkrRN2"
      },
      "source": [
        "\n",
        "#checking accuracy of naive bayes models\n",
        "accuracy_gnb = metrics.accuracy_score(y_test, y_pred_gnb)\n",
        "accuracy_bnb = metrics.accuracy_score(y_test, y_pred_bnb)\n",
        "accuracy_mnb = metrics.accuracy_score(y_test, y_pred_mnb)\n",
        "print(\"Accuracy of GaussianNB: \",accuracy_gnb,\" Accuracy of BernoulliNB: \",accuracy_bnb,\" Accuracy of MultinomialNB: \",accuracy_mnb)\n",
        "acc.append(accuracy_bnb*100)#appending the top accuracy of naive bayes to compare"
      ],
      "execution_count": null,
      "outputs": []
    },
    {
      "cell_type": "code",
      "metadata": {
        "id": "kvv9T_g6rRrq"
      },
      "source": [
        "gnb = GaussianNB()\n",
        "y_pred_gnb = gnb.fit(X_train, y_train).predict(X_test)\n",
        "bnb = BernoulliNB()\n",
        "y_pred_bnb = bnb.fit(X_train, y_train).predict(X_test)\n",
        "mnb = MultinomialNB()\n",
        "y_pred_mnb = mnb.fit(X_train, y_train).predict(X_test)"
      ],
      "execution_count": null,
      "outputs": []
    }
  ]
}