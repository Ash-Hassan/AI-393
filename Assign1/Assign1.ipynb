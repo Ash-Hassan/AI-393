{
 "cells": [
  {
   "cell_type": "code",
   "execution_count": 1,
   "id": "undefined-revision",
   "metadata": {
    "_cell_guid": "b1076dfc-b9ad-4769-8c92-a6c4dae69d19",
    "_uuid": "8f2839f25d086af736a60e9eeb907d3b93b6e0e5",
    "execution": {
     "iopub.execute_input": "2021-04-02T17:53:08.859065Z",
     "iopub.status.busy": "2021-04-02T17:53:08.858343Z",
     "iopub.status.idle": "2021-04-02T17:53:08.864926Z",
     "shell.execute_reply": "2021-04-02T17:53:08.864201Z"
    },
    "papermill": {
     "duration": 0.032899,
     "end_time": "2021-04-02T17:53:08.865103",
     "exception": false,
     "start_time": "2021-04-02T17:53:08.832204",
     "status": "completed"
    },
    "tags": []
   },
   "outputs": [
    {
     "name": "stdout",
     "output_type": "stream",
     "text": [
      "/kaggle/input/digit-recognizer/sample_submission.csv\n",
      "/kaggle/input/digit-recognizer/train.csv\n",
      "/kaggle/input/digit-recognizer/test.csv\n"
     ]
    }
   ],
   "source": [
    "# This Python 3 environment comes with many helpful analytics libraries installed\n",
    "# It is defined by the kaggle/python Docker image: https://github.com/kaggle/docker-python\n",
    "# For example, here's several helpful packages to load\n",
    "\n",
    "import numpy as np # linear algebra\n",
    "import pandas as pd # data processing, CSV file I/O (e.g. pd.read_csv)\n",
    "\n",
    "# Input data files are available in the read-only \"../input/\" directory\n",
    "# For example, running this (by clicking run or pressing Shift+Enter) will list all files under the input directory\n",
    "\n",
    "import os\n",
    "for dirname, _, filenames in os.walk('/kaggle/input'):\n",
    "    for filename in filenames:\n",
    "        print(os.path.join(dirname, filename))\n",
    "\n",
    "# You can write up to 20GB to the current directory (/kaggle/working/) that gets preserved as output when you create a version using \"Save & Run All\" \n",
    "# You can also write temporary files to /kaggle/temp/, but they won't be saved outside of the current session"
   ]
  },
  {
   "cell_type": "code",
   "execution_count": 2,
   "id": "quiet-crossing",
   "metadata": {
    "execution": {
     "iopub.execute_input": "2021-04-02T17:53:08.911654Z",
     "iopub.status.busy": "2021-04-02T17:53:08.910935Z",
     "iopub.status.idle": "2021-04-02T17:53:10.419875Z",
     "shell.execute_reply": "2021-04-02T17:53:10.419171Z"
    },
    "papermill": {
     "duration": 1.533989,
     "end_time": "2021-04-02T17:53:10.420043",
     "exception": false,
     "start_time": "2021-04-02T17:53:08.886054",
     "status": "completed"
    },
    "tags": []
   },
   "outputs": [],
   "source": [
    "import pandas as pd\n",
    "import numpy as np\n",
    "from matplotlib import pyplot as plt\n",
    "from sklearn.feature_selection import SelectKBest\n",
    "from sklearn.feature_selection import chi2\n",
    "from sklearn.preprocessing import LabelEncoder\n",
    "import scipy.stats as s\n",
    "import seaborn as sns\n",
    "from sklearn.model_selection import train_test_split \n",
    "from sklearn.linear_model import LinearRegression\n",
    "from sklearn import metrics\n",
    "from sklearn import svm\n",
    "from sklearn.svm import SVC\n",
    "from sklearn.model_selection import GridSearchCV\n",
    "from sklearn import preprocessing\n",
    "import math\n",
    "from sklearn.naive_bayes import GaussianNB\n",
    "from sklearn.naive_bayes import BernoulliNB \n",
    "from sklearn.naive_bayes import MultinomialNB \n",
    "from sklearn.naive_bayes import CategoricalNB"
   ]
  },
  {
   "cell_type": "code",
   "execution_count": 3,
   "id": "conventional-light",
   "metadata": {
    "execution": {
     "iopub.execute_input": "2021-04-02T17:53:10.463996Z",
     "iopub.status.busy": "2021-04-02T17:53:10.463248Z",
     "iopub.status.idle": "2021-04-02T17:53:15.465115Z",
     "shell.execute_reply": "2021-04-02T17:53:15.465626Z"
    },
    "papermill": {
     "duration": 5.027054,
     "end_time": "2021-04-02T17:53:15.465829",
     "exception": false,
     "start_time": "2021-04-02T17:53:10.438775",
     "status": "completed"
    },
    "tags": []
   },
   "outputs": [
    {
     "data": {
      "text/html": [
       "<div>\n",
       "<style scoped>\n",
       "    .dataframe tbody tr th:only-of-type {\n",
       "        vertical-align: middle;\n",
       "    }\n",
       "\n",
       "    .dataframe tbody tr th {\n",
       "        vertical-align: top;\n",
       "    }\n",
       "\n",
       "    .dataframe thead th {\n",
       "        text-align: right;\n",
       "    }\n",
       "</style>\n",
       "<table border=\"1\" class=\"dataframe\">\n",
       "  <thead>\n",
       "    <tr style=\"text-align: right;\">\n",
       "      <th></th>\n",
       "      <th>label</th>\n",
       "      <th>pixel0</th>\n",
       "      <th>pixel1</th>\n",
       "      <th>pixel2</th>\n",
       "      <th>pixel3</th>\n",
       "      <th>pixel4</th>\n",
       "      <th>pixel5</th>\n",
       "      <th>pixel6</th>\n",
       "      <th>pixel7</th>\n",
       "      <th>pixel8</th>\n",
       "      <th>...</th>\n",
       "      <th>pixel774</th>\n",
       "      <th>pixel775</th>\n",
       "      <th>pixel776</th>\n",
       "      <th>pixel777</th>\n",
       "      <th>pixel778</th>\n",
       "      <th>pixel779</th>\n",
       "      <th>pixel780</th>\n",
       "      <th>pixel781</th>\n",
       "      <th>pixel782</th>\n",
       "      <th>pixel783</th>\n",
       "    </tr>\n",
       "  </thead>\n",
       "  <tbody>\n",
       "    <tr>\n",
       "      <th>0</th>\n",
       "      <td>1</td>\n",
       "      <td>0</td>\n",
       "      <td>0</td>\n",
       "      <td>0</td>\n",
       "      <td>0</td>\n",
       "      <td>0</td>\n",
       "      <td>0</td>\n",
       "      <td>0</td>\n",
       "      <td>0</td>\n",
       "      <td>0</td>\n",
       "      <td>...</td>\n",
       "      <td>0</td>\n",
       "      <td>0</td>\n",
       "      <td>0</td>\n",
       "      <td>0</td>\n",
       "      <td>0</td>\n",
       "      <td>0</td>\n",
       "      <td>0</td>\n",
       "      <td>0</td>\n",
       "      <td>0</td>\n",
       "      <td>0</td>\n",
       "    </tr>\n",
       "    <tr>\n",
       "      <th>1</th>\n",
       "      <td>0</td>\n",
       "      <td>0</td>\n",
       "      <td>0</td>\n",
       "      <td>0</td>\n",
       "      <td>0</td>\n",
       "      <td>0</td>\n",
       "      <td>0</td>\n",
       "      <td>0</td>\n",
       "      <td>0</td>\n",
       "      <td>0</td>\n",
       "      <td>...</td>\n",
       "      <td>0</td>\n",
       "      <td>0</td>\n",
       "      <td>0</td>\n",
       "      <td>0</td>\n",
       "      <td>0</td>\n",
       "      <td>0</td>\n",
       "      <td>0</td>\n",
       "      <td>0</td>\n",
       "      <td>0</td>\n",
       "      <td>0</td>\n",
       "    </tr>\n",
       "    <tr>\n",
       "      <th>2</th>\n",
       "      <td>1</td>\n",
       "      <td>0</td>\n",
       "      <td>0</td>\n",
       "      <td>0</td>\n",
       "      <td>0</td>\n",
       "      <td>0</td>\n",
       "      <td>0</td>\n",
       "      <td>0</td>\n",
       "      <td>0</td>\n",
       "      <td>0</td>\n",
       "      <td>...</td>\n",
       "      <td>0</td>\n",
       "      <td>0</td>\n",
       "      <td>0</td>\n",
       "      <td>0</td>\n",
       "      <td>0</td>\n",
       "      <td>0</td>\n",
       "      <td>0</td>\n",
       "      <td>0</td>\n",
       "      <td>0</td>\n",
       "      <td>0</td>\n",
       "    </tr>\n",
       "    <tr>\n",
       "      <th>3</th>\n",
       "      <td>4</td>\n",
       "      <td>0</td>\n",
       "      <td>0</td>\n",
       "      <td>0</td>\n",
       "      <td>0</td>\n",
       "      <td>0</td>\n",
       "      <td>0</td>\n",
       "      <td>0</td>\n",
       "      <td>0</td>\n",
       "      <td>0</td>\n",
       "      <td>...</td>\n",
       "      <td>0</td>\n",
       "      <td>0</td>\n",
       "      <td>0</td>\n",
       "      <td>0</td>\n",
       "      <td>0</td>\n",
       "      <td>0</td>\n",
       "      <td>0</td>\n",
       "      <td>0</td>\n",
       "      <td>0</td>\n",
       "      <td>0</td>\n",
       "    </tr>\n",
       "    <tr>\n",
       "      <th>4</th>\n",
       "      <td>0</td>\n",
       "      <td>0</td>\n",
       "      <td>0</td>\n",
       "      <td>0</td>\n",
       "      <td>0</td>\n",
       "      <td>0</td>\n",
       "      <td>0</td>\n",
       "      <td>0</td>\n",
       "      <td>0</td>\n",
       "      <td>0</td>\n",
       "      <td>...</td>\n",
       "      <td>0</td>\n",
       "      <td>0</td>\n",
       "      <td>0</td>\n",
       "      <td>0</td>\n",
       "      <td>0</td>\n",
       "      <td>0</td>\n",
       "      <td>0</td>\n",
       "      <td>0</td>\n",
       "      <td>0</td>\n",
       "      <td>0</td>\n",
       "    </tr>\n",
       "    <tr>\n",
       "      <th>...</th>\n",
       "      <td>...</td>\n",
       "      <td>...</td>\n",
       "      <td>...</td>\n",
       "      <td>...</td>\n",
       "      <td>...</td>\n",
       "      <td>...</td>\n",
       "      <td>...</td>\n",
       "      <td>...</td>\n",
       "      <td>...</td>\n",
       "      <td>...</td>\n",
       "      <td>...</td>\n",
       "      <td>...</td>\n",
       "      <td>...</td>\n",
       "      <td>...</td>\n",
       "      <td>...</td>\n",
       "      <td>...</td>\n",
       "      <td>...</td>\n",
       "      <td>...</td>\n",
       "      <td>...</td>\n",
       "      <td>...</td>\n",
       "      <td>...</td>\n",
       "    </tr>\n",
       "    <tr>\n",
       "      <th>41995</th>\n",
       "      <td>0</td>\n",
       "      <td>0</td>\n",
       "      <td>0</td>\n",
       "      <td>0</td>\n",
       "      <td>0</td>\n",
       "      <td>0</td>\n",
       "      <td>0</td>\n",
       "      <td>0</td>\n",
       "      <td>0</td>\n",
       "      <td>0</td>\n",
       "      <td>...</td>\n",
       "      <td>0</td>\n",
       "      <td>0</td>\n",
       "      <td>0</td>\n",
       "      <td>0</td>\n",
       "      <td>0</td>\n",
       "      <td>0</td>\n",
       "      <td>0</td>\n",
       "      <td>0</td>\n",
       "      <td>0</td>\n",
       "      <td>0</td>\n",
       "    </tr>\n",
       "    <tr>\n",
       "      <th>41996</th>\n",
       "      <td>1</td>\n",
       "      <td>0</td>\n",
       "      <td>0</td>\n",
       "      <td>0</td>\n",
       "      <td>0</td>\n",
       "      <td>0</td>\n",
       "      <td>0</td>\n",
       "      <td>0</td>\n",
       "      <td>0</td>\n",
       "      <td>0</td>\n",
       "      <td>...</td>\n",
       "      <td>0</td>\n",
       "      <td>0</td>\n",
       "      <td>0</td>\n",
       "      <td>0</td>\n",
       "      <td>0</td>\n",
       "      <td>0</td>\n",
       "      <td>0</td>\n",
       "      <td>0</td>\n",
       "      <td>0</td>\n",
       "      <td>0</td>\n",
       "    </tr>\n",
       "    <tr>\n",
       "      <th>41997</th>\n",
       "      <td>7</td>\n",
       "      <td>0</td>\n",
       "      <td>0</td>\n",
       "      <td>0</td>\n",
       "      <td>0</td>\n",
       "      <td>0</td>\n",
       "      <td>0</td>\n",
       "      <td>0</td>\n",
       "      <td>0</td>\n",
       "      <td>0</td>\n",
       "      <td>...</td>\n",
       "      <td>0</td>\n",
       "      <td>0</td>\n",
       "      <td>0</td>\n",
       "      <td>0</td>\n",
       "      <td>0</td>\n",
       "      <td>0</td>\n",
       "      <td>0</td>\n",
       "      <td>0</td>\n",
       "      <td>0</td>\n",
       "      <td>0</td>\n",
       "    </tr>\n",
       "    <tr>\n",
       "      <th>41998</th>\n",
       "      <td>6</td>\n",
       "      <td>0</td>\n",
       "      <td>0</td>\n",
       "      <td>0</td>\n",
       "      <td>0</td>\n",
       "      <td>0</td>\n",
       "      <td>0</td>\n",
       "      <td>0</td>\n",
       "      <td>0</td>\n",
       "      <td>0</td>\n",
       "      <td>...</td>\n",
       "      <td>0</td>\n",
       "      <td>0</td>\n",
       "      <td>0</td>\n",
       "      <td>0</td>\n",
       "      <td>0</td>\n",
       "      <td>0</td>\n",
       "      <td>0</td>\n",
       "      <td>0</td>\n",
       "      <td>0</td>\n",
       "      <td>0</td>\n",
       "    </tr>\n",
       "    <tr>\n",
       "      <th>41999</th>\n",
       "      <td>9</td>\n",
       "      <td>0</td>\n",
       "      <td>0</td>\n",
       "      <td>0</td>\n",
       "      <td>0</td>\n",
       "      <td>0</td>\n",
       "      <td>0</td>\n",
       "      <td>0</td>\n",
       "      <td>0</td>\n",
       "      <td>0</td>\n",
       "      <td>...</td>\n",
       "      <td>0</td>\n",
       "      <td>0</td>\n",
       "      <td>0</td>\n",
       "      <td>0</td>\n",
       "      <td>0</td>\n",
       "      <td>0</td>\n",
       "      <td>0</td>\n",
       "      <td>0</td>\n",
       "      <td>0</td>\n",
       "      <td>0</td>\n",
       "    </tr>\n",
       "  </tbody>\n",
       "</table>\n",
       "<p>42000 rows × 785 columns</p>\n",
       "</div>"
      ],
      "text/plain": [
       "       label  pixel0  pixel1  pixel2  pixel3  pixel4  pixel5  pixel6  pixel7  \\\n",
       "0          1       0       0       0       0       0       0       0       0   \n",
       "1          0       0       0       0       0       0       0       0       0   \n",
       "2          1       0       0       0       0       0       0       0       0   \n",
       "3          4       0       0       0       0       0       0       0       0   \n",
       "4          0       0       0       0       0       0       0       0       0   \n",
       "...      ...     ...     ...     ...     ...     ...     ...     ...     ...   \n",
       "41995      0       0       0       0       0       0       0       0       0   \n",
       "41996      1       0       0       0       0       0       0       0       0   \n",
       "41997      7       0       0       0       0       0       0       0       0   \n",
       "41998      6       0       0       0       0       0       0       0       0   \n",
       "41999      9       0       0       0       0       0       0       0       0   \n",
       "\n",
       "       pixel8  ...  pixel774  pixel775  pixel776  pixel777  pixel778  \\\n",
       "0           0  ...         0         0         0         0         0   \n",
       "1           0  ...         0         0         0         0         0   \n",
       "2           0  ...         0         0         0         0         0   \n",
       "3           0  ...         0         0         0         0         0   \n",
       "4           0  ...         0         0         0         0         0   \n",
       "...       ...  ...       ...       ...       ...       ...       ...   \n",
       "41995       0  ...         0         0         0         0         0   \n",
       "41996       0  ...         0         0         0         0         0   \n",
       "41997       0  ...         0         0         0         0         0   \n",
       "41998       0  ...         0         0         0         0         0   \n",
       "41999       0  ...         0         0         0         0         0   \n",
       "\n",
       "       pixel779  pixel780  pixel781  pixel782  pixel783  \n",
       "0             0         0         0         0         0  \n",
       "1             0         0         0         0         0  \n",
       "2             0         0         0         0         0  \n",
       "3             0         0         0         0         0  \n",
       "4             0         0         0         0         0  \n",
       "...         ...       ...       ...       ...       ...  \n",
       "41995         0         0         0         0         0  \n",
       "41996         0         0         0         0         0  \n",
       "41997         0         0         0         0         0  \n",
       "41998         0         0         0         0         0  \n",
       "41999         0         0         0         0         0  \n",
       "\n",
       "[42000 rows x 785 columns]"
      ]
     },
     "execution_count": 3,
     "metadata": {},
     "output_type": "execute_result"
    }
   ],
   "source": [
    "#Loading the data\n",
    "df=pd.read_csv(\"../input/digit-recognizer/train.csv\")\n",
    "df"
   ]
  },
  {
   "cell_type": "code",
   "execution_count": 4,
   "id": "furnished-teacher",
   "metadata": {
    "execution": {
     "iopub.execute_input": "2021-04-02T17:53:15.509121Z",
     "iopub.status.busy": "2021-04-02T17:53:15.508332Z",
     "iopub.status.idle": "2021-04-02T17:53:15.514290Z",
     "shell.execute_reply": "2021-04-02T17:53:15.514827Z"
    },
    "papermill": {
     "duration": 0.029601,
     "end_time": "2021-04-02T17:53:15.515026",
     "exception": false,
     "start_time": "2021-04-02T17:53:15.485425",
     "status": "completed"
    },
    "tags": []
   },
   "outputs": [
    {
     "data": {
      "text/plain": [
       "Index(['label', 'pixel0', 'pixel1', 'pixel2', 'pixel3', 'pixel4', 'pixel5',\n",
       "       'pixel6', 'pixel7', 'pixel8',\n",
       "       ...\n",
       "       'pixel774', 'pixel775', 'pixel776', 'pixel777', 'pixel778', 'pixel779',\n",
       "       'pixel780', 'pixel781', 'pixel782', 'pixel783'],\n",
       "      dtype='object', length=785)"
      ]
     },
     "execution_count": 4,
     "metadata": {},
     "output_type": "execute_result"
    }
   ],
   "source": [
    "#Checking Columns\n",
    "df.columns"
   ]
  },
  {
   "cell_type": "code",
   "execution_count": 5,
   "id": "advised-wildlife",
   "metadata": {
    "execution": {
     "iopub.execute_input": "2021-04-02T17:53:15.558823Z",
     "iopub.status.busy": "2021-04-02T17:53:15.558105Z",
     "iopub.status.idle": "2021-04-02T17:53:15.568640Z",
     "shell.execute_reply": "2021-04-02T17:53:15.569215Z"
    },
    "papermill": {
     "duration": 0.034407,
     "end_time": "2021-04-02T17:53:15.569424",
     "exception": false,
     "start_time": "2021-04-02T17:53:15.535017",
     "status": "completed"
    },
    "tags": []
   },
   "outputs": [
    {
     "data": {
      "text/plain": [
       "1    4684\n",
       "7    4401\n",
       "3    4351\n",
       "9    4188\n",
       "2    4177\n",
       "6    4137\n",
       "0    4132\n",
       "4    4072\n",
       "8    4063\n",
       "5    3795\n",
       "Name: label, dtype: int64"
      ]
     },
     "execution_count": 5,
     "metadata": {},
     "output_type": "execute_result"
    }
   ],
   "source": [
    "#Checking Unique values in Label columns\n",
    "df[\"label\"].value_counts()"
   ]
  },
  {
   "cell_type": "code",
   "execution_count": 6,
   "id": "incredible-brunswick",
   "metadata": {
    "execution": {
     "iopub.execute_input": "2021-04-02T17:53:15.615765Z",
     "iopub.status.busy": "2021-04-02T17:53:15.614996Z",
     "iopub.status.idle": "2021-04-02T17:53:15.675216Z",
     "shell.execute_reply": "2021-04-02T17:53:15.675739Z"
    },
    "papermill": {
     "duration": 0.084358,
     "end_time": "2021-04-02T17:53:15.675955",
     "exception": false,
     "start_time": "2021-04-02T17:53:15.591597",
     "status": "completed"
    },
    "tags": []
   },
   "outputs": [
    {
     "data": {
      "text/plain": [
       "label       0\n",
       "pixel0      0\n",
       "pixel1      0\n",
       "pixel2      0\n",
       "pixel3      0\n",
       "           ..\n",
       "pixel779    0\n",
       "pixel780    0\n",
       "pixel781    0\n",
       "pixel782    0\n",
       "pixel783    0\n",
       "Length: 785, dtype: int64"
      ]
     },
     "execution_count": 6,
     "metadata": {},
     "output_type": "execute_result"
    }
   ],
   "source": [
    "#Checking for null Values\n",
    "df.isnull().sum()"
   ]
  },
  {
   "cell_type": "code",
   "execution_count": 7,
   "id": "political-semester",
   "metadata": {
    "execution": {
     "iopub.execute_input": "2021-04-02T17:53:15.770145Z",
     "iopub.status.busy": "2021-04-02T17:53:15.753077Z",
     "iopub.status.idle": "2021-04-02T17:53:15.773670Z",
     "shell.execute_reply": "2021-04-02T17:53:15.774326Z"
    },
    "papermill": {
     "duration": 0.077855,
     "end_time": "2021-04-02T17:53:15.774550",
     "exception": false,
     "start_time": "2021-04-02T17:53:15.696695",
     "status": "completed"
    },
    "tags": []
   },
   "outputs": [
    {
     "name": "stdout",
     "output_type": "stream",
     "text": [
      "<class 'pandas.core.frame.DataFrame'>\n",
      "RangeIndex: 42000 entries, 0 to 41999\n",
      "Columns: 785 entries, label to pixel783\n",
      "dtypes: int64(785)\n",
      "memory usage: 251.5 MB\n"
     ]
    }
   ],
   "source": [
    "#Checking dataframe for any invalid/missing data\n",
    "df.info()"
   ]
  },
  {
   "cell_type": "code",
   "execution_count": 8,
   "id": "optical-worthy",
   "metadata": {
    "execution": {
     "iopub.execute_input": "2021-04-02T17:53:15.999089Z",
     "iopub.status.busy": "2021-04-02T17:53:15.998311Z",
     "iopub.status.idle": "2021-04-02T17:53:16.001970Z",
     "shell.execute_reply": "2021-04-02T17:53:16.001050Z"
    },
    "papermill": {
     "duration": 0.206103,
     "end_time": "2021-04-02T17:53:16.002188",
     "exception": false,
     "start_time": "2021-04-02T17:53:15.796085",
     "status": "completed"
    },
    "tags": []
   },
   "outputs": [],
   "source": [
    "#Creating X & Y for Train_test_split\n",
    "X = df.drop([\"label\"], axis=1)\n",
    "y = df[\"label\"]"
   ]
  },
  {
   "cell_type": "code",
   "execution_count": 9,
   "id": "roman-craps",
   "metadata": {
    "execution": {
     "iopub.execute_input": "2021-04-02T17:53:16.051986Z",
     "iopub.status.busy": "2021-04-02T17:53:16.050950Z",
     "iopub.status.idle": "2021-04-02T17:53:16.177100Z",
     "shell.execute_reply": "2021-04-02T17:53:16.175353Z"
    },
    "papermill": {
     "duration": 0.152984,
     "end_time": "2021-04-02T17:53:16.177282",
     "exception": false,
     "start_time": "2021-04-02T17:53:16.024298",
     "status": "completed"
    },
    "tags": []
   },
   "outputs": [],
   "source": [
    "# Normalizing values\n",
    "X = X / 255"
   ]
  },
  {
   "cell_type": "code",
   "execution_count": 10,
   "id": "ordinary-provision",
   "metadata": {
    "execution": {
     "iopub.execute_input": "2021-04-02T17:53:16.549054Z",
     "iopub.status.busy": "2021-04-02T17:53:16.492204Z",
     "iopub.status.idle": "2021-04-02T17:53:16.555239Z",
     "shell.execute_reply": "2021-04-02T17:53:16.555824Z"
    },
    "papermill": {
     "duration": 0.356761,
     "end_time": "2021-04-02T17:53:16.556043",
     "exception": false,
     "start_time": "2021-04-02T17:53:16.199282",
     "status": "completed"
    },
    "tags": []
   },
   "outputs": [],
   "source": [
    "#spliting\n",
    "X_train, X_test, y_train, y_test = train_test_split(X, y, test_size=0.1, random_state=42)"
   ]
  },
  {
   "cell_type": "code",
   "execution_count": 11,
   "id": "detailed-drain",
   "metadata": {
    "execution": {
     "iopub.execute_input": "2021-04-02T17:53:16.615117Z",
     "iopub.status.busy": "2021-04-02T17:53:16.614384Z",
     "iopub.status.idle": "2021-04-02T17:53:19.296658Z",
     "shell.execute_reply": "2021-04-02T17:53:19.297806Z"
    },
    "papermill": {
     "duration": 2.720281,
     "end_time": "2021-04-02T17:53:19.298138",
     "exception": false,
     "start_time": "2021-04-02T17:53:16.577857",
     "status": "completed"
    },
    "tags": []
   },
   "outputs": [
    {
     "data": {
      "text/plain": [
       "LinearRegression()"
      ]
     },
     "execution_count": 11,
     "metadata": {},
     "output_type": "execute_result"
    }
   ],
   "source": [
    "#creating and training the model\n",
    "reg = LinearRegression()\n",
    "reg.fit(X_train, y_train)"
   ]
  },
  {
   "cell_type": "code",
   "execution_count": 12,
   "id": "italic-correction",
   "metadata": {
    "execution": {
     "iopub.execute_input": "2021-04-02T17:53:19.384537Z",
     "iopub.status.busy": "2021-04-02T17:53:19.383408Z",
     "iopub.status.idle": "2021-04-02T17:53:19.409076Z",
     "shell.execute_reply": "2021-04-02T17:53:19.410034Z"
    },
    "papermill": {
     "duration": 0.073219,
     "end_time": "2021-04-02T17:53:19.410345",
     "exception": false,
     "start_time": "2021-04-02T17:53:19.337126",
     "status": "completed"
    },
    "tags": []
   },
   "outputs": [],
   "source": [
    "#predicting the splited data\n",
    "y_test_pred_reg = reg.predict(X_test)"
   ]
  },
  {
   "cell_type": "code",
   "execution_count": 13,
   "id": "premium-charger",
   "metadata": {
    "execution": {
     "iopub.execute_input": "2021-04-02T17:53:19.497560Z",
     "iopub.status.busy": "2021-04-02T17:53:19.496443Z",
     "iopub.status.idle": "2021-04-02T17:53:19.501999Z",
     "shell.execute_reply": "2021-04-02T17:53:19.503010Z"
    },
    "papermill": {
     "duration": 0.053341,
     "end_time": "2021-04-02T17:53:19.503316",
     "exception": false,
     "start_time": "2021-04-02T17:53:19.449975",
     "status": "completed"
    },
    "tags": []
   },
   "outputs": [
    {
     "data": {
      "text/plain": [
       "-7.564684810371411e+16"
      ]
     },
     "execution_count": 13,
     "metadata": {},
     "output_type": "execute_result"
    }
   ],
   "source": [
    "#checking the accuracy\n",
    "metrics.r2_score(y_test, y_test_pred_reg)"
   ]
  },
  {
   "cell_type": "code",
   "execution_count": 14,
   "id": "middle-infrared",
   "metadata": {
    "execution": {
     "iopub.execute_input": "2021-04-02T17:53:19.573468Z",
     "iopub.status.busy": "2021-04-02T17:53:19.571930Z",
     "iopub.status.idle": "2021-04-02T17:53:21.895655Z",
     "shell.execute_reply": "2021-04-02T17:53:21.896652Z"
    },
    "papermill": {
     "duration": 2.363564,
     "end_time": "2021-04-02T17:53:21.896982",
     "exception": false,
     "start_time": "2021-04-02T17:53:19.533418",
     "status": "completed"
    },
    "tags": []
   },
   "outputs": [],
   "source": [
    "#fitting and predicting using naive bayes\n",
    "gnb = GaussianNB()\n",
    "y_pred_gnb = gnb.fit(X_train, y_train).predict(X_test)\n",
    "bnb = BernoulliNB()\n",
    "y_pred_bnb = bnb.fit(X_train, y_train).predict(X_test)\n",
    "mnb = MultinomialNB()\n",
    "y_pred_mnb = mnb.fit(X_train, y_train).predict(X_test)"
   ]
  },
  {
   "cell_type": "code",
   "execution_count": 15,
   "id": "ethical-development",
   "metadata": {
    "execution": {
     "iopub.execute_input": "2021-04-02T17:53:21.988492Z",
     "iopub.status.busy": "2021-04-02T17:53:21.987342Z",
     "iopub.status.idle": "2021-04-02T17:53:21.999999Z",
     "shell.execute_reply": "2021-04-02T17:53:21.998668Z"
    },
    "papermill": {
     "duration": 0.062378,
     "end_time": "2021-04-02T17:53:22.000273",
     "exception": false,
     "start_time": "2021-04-02T17:53:21.937895",
     "status": "completed"
    },
    "tags": []
   },
   "outputs": [
    {
     "name": "stdout",
     "output_type": "stream",
     "text": [
      "Accuracy of GaussianNB:  0.5671428571428572  Accuracy of BernoulliNB:  0.8269047619047619  Accuracy of MultinomialNB:  0.8183333333333334\n"
     ]
    }
   ],
   "source": [
    "#checking accuracy of naive bayes models\n",
    "accuracy_gnb = metrics.accuracy_score(y_test, y_pred_gnb)\n",
    "accuracy_bnb = metrics.accuracy_score(y_test, y_pred_bnb)\n",
    "accuracy_mnb = metrics.accuracy_score(y_test, y_pred_mnb)\n",
    "print(\"Accuracy of GaussianNB: \",accuracy_gnb,\" Accuracy of BernoulliNB: \",accuracy_bnb,\" Accuracy of MultinomialNB: \",accuracy_mnb)"
   ]
  },
  {
   "cell_type": "code",
   "execution_count": 16,
   "id": "reduced-passport",
   "metadata": {
    "execution": {
     "iopub.execute_input": "2021-04-02T17:53:22.064989Z",
     "iopub.status.busy": "2021-04-02T17:53:22.064207Z",
     "iopub.status.idle": "2021-04-02T17:56:41.896093Z",
     "shell.execute_reply": "2021-04-02T17:56:41.896876Z"
    },
    "papermill": {
     "duration": 199.871303,
     "end_time": "2021-04-02T17:56:41.897319",
     "exception": false,
     "start_time": "2021-04-02T17:53:22.026016",
     "status": "completed"
    },
    "tags": []
   },
   "outputs": [
    {
     "name": "stdout",
     "output_type": "stream",
     "text": [
      "[LibSVM]"
     ]
    },
    {
     "data": {
      "text/plain": [
       "SVC(C=9, random_state=42, verbose=3)"
      ]
     },
     "execution_count": 16,
     "metadata": {},
     "output_type": "execute_result"
    }
   ],
   "source": [
    "#creating and training the model\n",
    "svm_clf = SVC(kernel=\"rbf\", random_state=42, verbose=3,C=9)\n",
    "svm_clf.fit(X_train, y_train)"
   ]
  },
  {
   "cell_type": "code",
   "execution_count": 17,
   "id": "acoustic-aurora",
   "metadata": {
    "execution": {
     "iopub.execute_input": "2021-04-02T17:56:41.972597Z",
     "iopub.status.busy": "2021-04-02T17:56:41.958693Z",
     "iopub.status.idle": "2021-04-02T17:57:25.862669Z",
     "shell.execute_reply": "2021-04-02T17:57:25.861605Z"
    },
    "papermill": {
     "duration": 43.940561,
     "end_time": "2021-04-02T17:57:25.862871",
     "exception": false,
     "start_time": "2021-04-02T17:56:41.922310",
     "status": "completed"
    },
    "tags": []
   },
   "outputs": [],
   "source": [
    "#predicting the splited data\n",
    "y_test_pred_svm = svm_clf.predict(X_test)"
   ]
  },
  {
   "cell_type": "code",
   "execution_count": 18,
   "id": "printable-shelter",
   "metadata": {
    "execution": {
     "iopub.execute_input": "2021-04-02T17:57:25.921673Z",
     "iopub.status.busy": "2021-04-02T17:57:25.920452Z",
     "iopub.status.idle": "2021-04-02T17:57:25.928451Z",
     "shell.execute_reply": "2021-04-02T17:57:25.927826Z"
    },
    "papermill": {
     "duration": 0.040539,
     "end_time": "2021-04-02T17:57:25.928620",
     "exception": false,
     "start_time": "2021-04-02T17:57:25.888081",
     "status": "completed"
    },
    "tags": []
   },
   "outputs": [
    {
     "data": {
      "text/plain": [
       "0.9814285714285714"
      ]
     },
     "execution_count": 18,
     "metadata": {},
     "output_type": "execute_result"
    }
   ],
   "source": [
    "#checking accuracy of svm model\n",
    "metrics.accuracy_score(y_test, y_test_pred_svm)"
   ]
  },
  {
   "cell_type": "markdown",
   "id": "south-template",
   "metadata": {
    "papermill": {
     "duration": 0.024658,
     "end_time": "2021-04-02T17:57:25.979188",
     "exception": false,
     "start_time": "2021-04-02T17:57:25.954530",
     "status": "completed"
    },
    "tags": []
   },
   "source": [
    "## The best model based on accuracy is the Support Vector Classification (0.98)"
   ]
  },
  {
   "cell_type": "code",
   "execution_count": 19,
   "id": "accepted-pleasure",
   "metadata": {
    "execution": {
     "iopub.execute_input": "2021-04-02T17:57:26.036489Z",
     "iopub.status.busy": "2021-04-02T17:57:26.035789Z",
     "iopub.status.idle": "2021-04-02T18:02:28.841177Z",
     "shell.execute_reply": "2021-04-02T18:02:28.840180Z"
    },
    "papermill": {
     "duration": 302.837734,
     "end_time": "2021-04-02T18:02:28.841520",
     "exception": false,
     "start_time": "2021-04-02T17:57:26.003786",
     "status": "completed"
    },
    "tags": []
   },
   "outputs": [],
   "source": [
    "test=pd.read_csv(\"../input/digit-recognizer/test.csv\")\n",
    "test=test/255\n",
    "svmFinalpred=svm_clf.predict(test)"
   ]
  },
  {
   "cell_type": "code",
   "execution_count": 20,
   "id": "determined-spelling",
   "metadata": {
    "execution": {
     "iopub.execute_input": "2021-04-02T18:02:28.902160Z",
     "iopub.status.busy": "2021-04-02T18:02:28.901055Z",
     "iopub.status.idle": "2021-04-02T18:02:28.904304Z",
     "shell.execute_reply": "2021-04-02T18:02:28.903662Z"
    },
    "papermill": {
     "duration": 0.03591,
     "end_time": "2021-04-02T18:02:28.904488",
     "exception": false,
     "start_time": "2021-04-02T18:02:28.868578",
     "status": "completed"
    },
    "tags": []
   },
   "outputs": [],
   "source": [
    "finalPred=pd.DataFrame(svmFinalpred,columns=[\"Label\"])"
   ]
  },
  {
   "cell_type": "code",
   "execution_count": 21,
   "id": "extended-triangle",
   "metadata": {
    "execution": {
     "iopub.execute_input": "2021-04-02T18:02:28.962653Z",
     "iopub.status.busy": "2021-04-02T18:02:28.961796Z",
     "iopub.status.idle": "2021-04-02T18:02:28.964894Z",
     "shell.execute_reply": "2021-04-02T18:02:28.964315Z"
    },
    "papermill": {
     "duration": 0.035761,
     "end_time": "2021-04-02T18:02:28.965049",
     "exception": false,
     "start_time": "2021-04-02T18:02:28.929288",
     "status": "completed"
    },
    "tags": []
   },
   "outputs": [],
   "source": [
    "finalPred['ImageId']=finalPred.index+1"
   ]
  },
  {
   "cell_type": "code",
   "execution_count": 22,
   "id": "human-calendar",
   "metadata": {
    "execution": {
     "iopub.execute_input": "2021-04-02T18:02:29.021482Z",
     "iopub.status.busy": "2021-04-02T18:02:29.020732Z",
     "iopub.status.idle": "2021-04-02T18:02:29.026405Z",
     "shell.execute_reply": "2021-04-02T18:02:29.025726Z"
    },
    "papermill": {
     "duration": 0.036238,
     "end_time": "2021-04-02T18:02:29.026563",
     "exception": false,
     "start_time": "2021-04-02T18:02:28.990325",
     "status": "completed"
    },
    "tags": []
   },
   "outputs": [],
   "source": [
    "finalPred = finalPred.reindex(['ImageId','Label'], axis=1)"
   ]
  },
  {
   "cell_type": "code",
   "execution_count": 23,
   "id": "forward-gather",
   "metadata": {
    "execution": {
     "iopub.execute_input": "2021-04-02T18:02:29.085808Z",
     "iopub.status.busy": "2021-04-02T18:02:29.084954Z",
     "iopub.status.idle": "2021-04-02T18:02:29.145535Z",
     "shell.execute_reply": "2021-04-02T18:02:29.144901Z"
    },
    "papermill": {
     "duration": 0.092453,
     "end_time": "2021-04-02T18:02:29.145731",
     "exception": false,
     "start_time": "2021-04-02T18:02:29.053278",
     "status": "completed"
    },
    "tags": []
   },
   "outputs": [],
   "source": [
    "finalPred.to_csv('./submition.csv',index=False)"
   ]
  },
  {
   "cell_type": "code",
   "execution_count": null,
   "id": "arbitrary-first",
   "metadata": {
    "papermill": {
     "duration": 0.02522,
     "end_time": "2021-04-02T18:02:29.196434",
     "exception": false,
     "start_time": "2021-04-02T18:02:29.171214",
     "status": "completed"
    },
    "tags": []
   },
   "outputs": [],
   "source": []
  },
  {
   "cell_type": "code",
   "execution_count": null,
   "id": "received-joshua",
   "metadata": {
    "papermill": {
     "duration": 0.025037,
     "end_time": "2021-04-02T18:02:29.246828",
     "exception": false,
     "start_time": "2021-04-02T18:02:29.221791",
     "status": "completed"
    },
    "tags": []
   },
   "outputs": [],
   "source": []
  }
 ],
 "metadata": {
  "kernelspec": {
   "display_name": "Python 3",
   "language": "python",
   "name": "python3"
  },
  "language_info": {
   "codemirror_mode": {
    "name": "ipython",
    "version": 3
   },
   "file_extension": ".py",
   "mimetype": "text/x-python",
   "name": "python",
   "nbconvert_exporter": "python",
   "pygments_lexer": "ipython3",
   "version": "3.7.9"
  },
  "papermill": {
   "default_parameters": {},
   "duration": 568.348235,
   "end_time": "2021-04-02T18:02:30.185515",
   "environment_variables": {},
   "exception": null,
   "input_path": "__notebook__.ipynb",
   "output_path": "__notebook__.ipynb",
   "parameters": {},
   "start_time": "2021-04-02T17:53:01.837280",
   "version": "2.3.2"
  }
 },
 "nbformat": 4,
 "nbformat_minor": 5
}
