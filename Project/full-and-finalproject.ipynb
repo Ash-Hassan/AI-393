{
 "cells": [
  {
   "cell_type": "markdown",
   "id": "pediatric-family",
   "metadata": {
    "papermill": {
     "duration": 0.031815,
     "end_time": "2021-04-25T00:24:41.861746",
     "exception": false,
     "start_time": "2021-04-25T00:24:41.829931",
     "status": "completed"
    },
    "tags": []
   },
   "source": [
    "## Mandatory Kaggle Stuff"
   ]
  },
  {
   "cell_type": "code",
   "execution_count": 1,
   "id": "advised-darkness",
   "metadata": {
    "_cell_guid": "b1076dfc-b9ad-4769-8c92-a6c4dae69d19",
    "_uuid": "8f2839f25d086af736a60e9eeb907d3b93b6e0e5",
    "execution": {
     "iopub.execute_input": "2021-04-25T00:24:41.929512Z",
     "iopub.status.busy": "2021-04-25T00:24:41.928371Z",
     "iopub.status.idle": "2021-04-25T00:24:41.955264Z",
     "shell.execute_reply": "2021-04-25T00:24:41.955827Z"
    },
    "papermill": {
     "duration": 0.063425,
     "end_time": "2021-04-25T00:24:41.956117",
     "exception": false,
     "start_time": "2021-04-25T00:24:41.892692",
     "status": "completed"
    },
    "tags": []
   },
   "outputs": [
    {
     "name": "stdout",
     "output_type": "stream",
     "text": [
      "/kaggle/input/digit-recognizer/sample_submission.csv\n",
      "/kaggle/input/digit-recognizer/train.csv\n",
      "/kaggle/input/digit-recognizer/test.csv\n",
      "/kaggle/input/full-and-finalproject/submition.csv\n",
      "/kaggle/input/full-and-finalproject/__results__.html\n",
      "/kaggle/input/full-and-finalproject/__notebook_source__.ipynb\n",
      "/kaggle/input/full-and-finalproject/filter5x5inc.csv\n",
      "/kaggle/input/full-and-finalproject/filter9x9.csv\n",
      "/kaggle/input/full-and-finalproject/filter7x7simple.csv\n",
      "/kaggle/input/full-and-finalproject/filter9x9inc.csv\n",
      "/kaggle/input/full-and-finalproject/__notebook__.ipynb\n",
      "/kaggle/input/full-and-finalproject/filter5x5simple.csv\n",
      "/kaggle/input/full-and-finalproject/__output__.json\n",
      "/kaggle/input/full-and-finalproject/filter7x7inc.csv\n",
      "/kaggle/input/full-and-finalproject/custom.css\n"
     ]
    }
   ],
   "source": [
    "# This Python 3 environment comes with many helpful analytics libraries installed\n",
    "# It is defined by the kaggle/python Docker image: https://github.com/kaggle/docker-python\n",
    "# For example, here's several helpful packages to load\n",
    "\n",
    "import numpy as np # linear algebra\n",
    "import pandas as pd # data processing, CSV file I/O (e.g. pd.read_csv)\n",
    "\n",
    "# Input data files are available in the read-only \"../input/\" directory\n",
    "# For example, running this (by clicking run or pressing Shift+Enter) will list all files under the input directory\n",
    "\n",
    "import os\n",
    "for dirname, _, filenames in os.walk('/kaggle/input'):\n",
    "    for filename in filenames:\n",
    "        print(os.path.join(dirname, filename))\n",
    "\n",
    "# You can write up to 20GB to the current directory (/kaggle/working/) that gets preserved as output when you create a version using \"Save & Run All\" \n",
    "# You can also write temporary files to /kaggle/temp/, but they won't be saved outside of the current session"
   ]
  },
  {
   "cell_type": "markdown",
   "id": "protected-correlation",
   "metadata": {
    "papermill": {
     "duration": 0.030728,
     "end_time": "2021-04-25T00:24:42.018267",
     "exception": false,
     "start_time": "2021-04-25T00:24:41.987539",
     "status": "completed"
    },
    "tags": []
   },
   "source": [
    "## Importing Libraries"
   ]
  },
  {
   "cell_type": "code",
   "execution_count": 2,
   "id": "hindu-humanity",
   "metadata": {
    "execution": {
     "iopub.execute_input": "2021-04-25T00:24:42.083965Z",
     "iopub.status.busy": "2021-04-25T00:24:42.083306Z",
     "iopub.status.idle": "2021-04-25T00:24:43.559267Z",
     "shell.execute_reply": "2021-04-25T00:24:43.558640Z"
    },
    "papermill": {
     "duration": 1.509927,
     "end_time": "2021-04-25T00:24:43.559408",
     "exception": false,
     "start_time": "2021-04-25T00:24:42.049481",
     "status": "completed"
    },
    "tags": []
   },
   "outputs": [],
   "source": [
    "import pandas as pd\n",
    "import scipy\n",
    "from scipy import signal\n",
    "import numpy as np\n",
    "from sklearn.model_selection import train_test_split\n",
    "from sklearn.model_selection import cross_val_score\n",
    "from sklearn.naive_bayes import MultinomialNB\n",
    "from sklearn.linear_model import LinearRegression\n",
    "from sklearn.preprocessing import StandardScaler\n",
    "from sklearn.svm import SVC\n",
    "from sklearn.neighbors import KNeighborsClassifier\n",
    "from sklearn import metrics\n",
    "from sklearn.tree import DecisionTreeClassifier\n",
    "from itertools import chain\n",
    "pd.set_option('display.max_colwidth', 500)\n"
   ]
  },
  {
   "cell_type": "code",
   "execution_count": 3,
   "id": "finite-madrid",
   "metadata": {
    "execution": {
     "iopub.execute_input": "2021-04-25T00:24:43.627293Z",
     "iopub.status.busy": "2021-04-25T00:24:43.626528Z",
     "iopub.status.idle": "2021-04-25T00:24:47.705552Z",
     "shell.execute_reply": "2021-04-25T00:24:47.704748Z"
    },
    "papermill": {
     "duration": 4.115256,
     "end_time": "2021-04-25T00:24:47.705702",
     "exception": false,
     "start_time": "2021-04-25T00:24:43.590446",
     "status": "completed"
    },
    "tags": []
   },
   "outputs": [],
   "source": [
    "#Importing train data\n",
    "df = pd.read_csv('../input/digit-recognizer/train.csv')"
   ]
  },
  {
   "cell_type": "code",
   "execution_count": 4,
   "id": "injured-pulse",
   "metadata": {
    "execution": {
     "iopub.execute_input": "2021-04-25T00:24:47.792054Z",
     "iopub.status.busy": "2021-04-25T00:24:47.784332Z",
     "iopub.status.idle": "2021-04-25T00:24:47.899928Z",
     "shell.execute_reply": "2021-04-25T00:24:47.900456Z"
    },
    "papermill": {
     "duration": 0.161628,
     "end_time": "2021-04-25T00:24:47.900626",
     "exception": false,
     "start_time": "2021-04-25T00:24:47.738998",
     "status": "completed"
    },
    "tags": []
   },
   "outputs": [],
   "source": [
    "#Creating X & Y for Train_test_split\n",
    "X = df.drop([\"label\"], axis=1)\n",
    "Y = df[\"label\"]"
   ]
  },
  {
   "cell_type": "markdown",
   "id": "nuclear-concentration",
   "metadata": {
    "papermill": {
     "duration": 0.032419,
     "end_time": "2021-04-25T00:24:47.964519",
     "exception": false,
     "start_time": "2021-04-25T00:24:47.932100",
     "status": "completed"
    },
    "tags": []
   },
   "source": [
    "## Making filters"
   ]
  },
  {
   "cell_type": "code",
   "execution_count": 5,
   "id": "complete-commodity",
   "metadata": {
    "_kg_hide-output": true,
    "execution": {
     "iopub.execute_input": "2021-04-25T00:24:48.043211Z",
     "iopub.status.busy": "2021-04-25T00:24:48.042496Z",
     "iopub.status.idle": "2021-04-25T00:24:48.046207Z",
     "shell.execute_reply": "2021-04-25T00:24:48.045544Z"
    },
    "papermill": {
     "duration": 0.05004,
     "end_time": "2021-04-25T00:24:48.046351",
     "exception": false,
     "start_time": "2021-04-25T00:24:47.996311",
     "status": "completed"
    },
    "tags": []
   },
   "outputs": [],
   "source": [
    "filter9 = np.array([[1 for x in range(9)] for y in range(9)])\n",
    "filter7 = np.array([[1 for x in range(7)] for y in range(7)])\n",
    "filter5 = np.array([[1 for x in range(5)] for y in range(5)])\n",
    "\n",
    "filter9inc = np.array([[1,1,1,1,1,1,1,1,1],\n",
    "                      [1,2,2,2,2,2,2,2,1],\n",
    "                      [1,2,3,3,3,3,3,2,1],\n",
    "                      [1,2,3,4,4,4,3,2,1],\n",
    "                      [1,2,3,4,5,4,3,2,1],\n",
    "                      [1,2,3,4,4,4,3,2,1],\n",
    "                      [1,2,3,3,3,3,3,2,1],\n",
    "                      [1,2,2,2,2,2,2,2,1],\n",
    "                      [1,1,1,1,1,1,1,1,1]])\n",
    "\n",
    "filter7inc = np.array([[1,1,1,1,1,1,1],\n",
    "                      [1,2,2,2,2,2,1],\n",
    "                      [1,2,3,3,3,2,1],\n",
    "                      [1,2,3,4,3,2,1],\n",
    "                      [1,2,3,3,3,2,1],\n",
    "                      [1,2,2,2,2,2,1],\n",
    "                      [1,1,1,1,1,1,1]])\n",
    "\n",
    "filter5inc = np.array([[1,1,1,1,1],\n",
    "                      [1,2,2,2,1],\n",
    "                      [1,2,3,2,1],\n",
    "                      [1,2,2,2,1],\n",
    "                      [1,1,1,1,1]])"
   ]
  },
  {
   "cell_type": "code",
   "execution_count": 6,
   "id": "clean-reputation",
   "metadata": {
    "execution": {
     "iopub.execute_input": "2021-04-25T00:24:48.116398Z",
     "iopub.status.busy": "2021-04-25T00:24:48.115258Z",
     "iopub.status.idle": "2021-04-25T00:24:48.120543Z",
     "shell.execute_reply": "2021-04-25T00:24:48.119998Z"
    },
    "papermill": {
     "duration": 0.042199,
     "end_time": "2021-04-25T00:24:48.120682",
     "exception": false,
     "start_time": "2021-04-25T00:24:48.078483",
     "status": "completed"
    },
    "tags": []
   },
   "outputs": [
    {
     "name": "stdout",
     "output_type": "stream",
     "text": [
      "(9, 9) (9, 9)\n",
      "(7, 7) (7, 7)\n",
      "(5, 5) (5, 5)\n"
     ]
    }
   ],
   "source": [
    "print(filter9.shape,filter9inc.shape)\n",
    "print(filter7.shape,filter7inc.shape)\n",
    "print(filter5.shape,filter5inc.shape)"
   ]
  },
  {
   "cell_type": "markdown",
   "id": "featured-zimbabwe",
   "metadata": {
    "papermill": {
     "duration": 0.032308,
     "end_time": "2021-04-25T00:24:48.185927",
     "exception": false,
     "start_time": "2021-04-25T00:24:48.153619",
     "status": "completed"
    },
    "tags": []
   },
   "source": [
    "## Applying Convolutions using 6 filters"
   ]
  },
  {
   "cell_type": "markdown",
   "id": "logical-pride",
   "metadata": {
    "papermill": {
     "duration": 0.031775,
     "end_time": "2021-04-25T00:24:48.250046",
     "exception": false,
     "start_time": "2021-04-25T00:24:48.218271",
     "status": "completed"
    },
    "tags": []
   },
   "source": [
    "### 5x5 Filters"
   ]
  },
  {
   "cell_type": "code",
   "execution_count": 7,
   "id": "incredible-accountability",
   "metadata": {
    "_kg_hide-output": true,
    "execution": {
     "iopub.execute_input": "2021-04-25T00:24:48.352250Z",
     "iopub.status.busy": "2021-04-25T00:24:48.350257Z",
     "iopub.status.idle": "2021-04-25T00:46:03.443659Z",
     "shell.execute_reply": "2021-04-25T00:46:03.443051Z"
    },
    "papermill": {
     "duration": 1275.162208,
     "end_time": "2021-04-25T00:46:03.443846",
     "exception": false,
     "start_time": "2021-04-25T00:24:48.281638",
     "status": "completed"
    },
    "tags": []
   },
   "outputs": [
    {
     "name": "stdout",
     "output_type": "stream",
     "text": [
      "10000\n",
      "20000\n",
      "30000\n",
      "40000\n"
     ]
    }
   ],
   "source": [
    "df=pd.DataFrame()\n",
    "arr = np.asarray(X)\n",
    "for i in range(0,42000):  #Looping through Every row\n",
    "    x = None  #Nullifying the variables for every iteration\n",
    "    ax = None\n",
    "    xRes = None\n",
    "    array_1d = None\n",
    "    \n",
    "    xRes = np.reshape(arr[i],(-1,28))  #reshaping the data to image size\n",
    "    x = scipy.signal.convolve2d(xRes, filter5, mode='valid') #Applying convolution with one of the two Filters \n",
    "    if i == 10000 or i==20000 or i==30000 or i==40000:     # Printing the iteration value to check the progress\n",
    "        print(i)\n",
    "    ax = x\n",
    "    array_1d = ax.flatten()   #flattening the convolve data to 1d array\n",
    "    df = df.append(pd.DataFrame(array_1d).T, ignore_index=True) #appending it to the new dataframe"
   ]
  },
  {
   "cell_type": "code",
   "execution_count": 8,
   "id": "accompanied-document",
   "metadata": {
    "execution": {
     "iopub.execute_input": "2021-04-25T00:46:03.516520Z",
     "iopub.status.busy": "2021-04-25T00:46:03.515895Z",
     "iopub.status.idle": "2021-04-25T00:46:11.185065Z",
     "shell.execute_reply": "2021-04-25T00:46:11.184356Z"
    },
    "papermill": {
     "duration": 7.707582,
     "end_time": "2021-04-25T00:46:11.185214",
     "exception": false,
     "start_time": "2021-04-25T00:46:03.477632",
     "status": "completed"
    },
    "tags": []
   },
   "outputs": [
    {
     "name": "stdout",
     "output_type": "stream",
     "text": [
      "(42000, 576)\n",
      "(42000,)\n"
     ]
    }
   ],
   "source": [
    "#Cheking the data shape and Saving the data\n",
    "print(df.shape)\n",
    "print(Y.shape)\n",
    "df.to_csv(\"./filter5x5simple.csv\")"
   ]
  },
  {
   "cell_type": "code",
   "execution_count": 9,
   "id": "fitted-corrections",
   "metadata": {
    "execution": {
     "iopub.execute_input": "2021-04-25T00:46:11.288718Z",
     "iopub.status.busy": "2021-04-25T00:46:11.283575Z",
     "iopub.status.idle": "2021-04-25T01:07:26.363571Z",
     "shell.execute_reply": "2021-04-25T01:07:26.364079Z"
    },
    "papermill": {
     "duration": 1275.145274,
     "end_time": "2021-04-25T01:07:26.364280",
     "exception": false,
     "start_time": "2021-04-25T00:46:11.219006",
     "status": "completed"
    },
    "tags": []
   },
   "outputs": [
    {
     "name": "stdout",
     "output_type": "stream",
     "text": [
      "10000\n",
      "20000\n",
      "30000\n",
      "40000\n"
     ]
    }
   ],
   "source": [
    "df=pd.DataFrame()\n",
    "arr = np.asarray(X)\n",
    "for i in range(0,42000):  #Looping through Every row\n",
    "    x = None  #Nullifying the variables for every iteration\n",
    "    ax = None\n",
    "    xRes = None\n",
    "    array_1d = None\n",
    "    \n",
    "    xRes = np.reshape(arr[i],(-1,28))  #reshaping the data to image size\n",
    "    x = scipy.signal.convolve2d(xRes, filter5inc, mode='valid') #Applying convolution with one of the two Filters \n",
    "    if i == 10000 or i==20000 or i==30000 or i==40000:     # Printing the iteration value to check the progress\n",
    "        print(i)\n",
    "    ax = x\n",
    "    array_1d = ax.flatten()   #flattening the convolve data to 1d array\n",
    "    df = df.append(pd.DataFrame(array_1d).T, ignore_index=True) #appending it to the new dataframe"
   ]
  },
  {
   "cell_type": "code",
   "execution_count": 10,
   "id": "flexible-offer",
   "metadata": {
    "execution": {
     "iopub.execute_input": "2021-04-25T01:07:26.437583Z",
     "iopub.status.busy": "2021-04-25T01:07:26.436637Z",
     "iopub.status.idle": "2021-04-25T01:07:34.238213Z",
     "shell.execute_reply": "2021-04-25T01:07:34.237463Z"
    },
    "papermill": {
     "duration": 7.839164,
     "end_time": "2021-04-25T01:07:34.238374",
     "exception": false,
     "start_time": "2021-04-25T01:07:26.399210",
     "status": "completed"
    },
    "tags": []
   },
   "outputs": [
    {
     "name": "stdout",
     "output_type": "stream",
     "text": [
      "(42000, 576)\n",
      "(42000,)\n"
     ]
    }
   ],
   "source": [
    "#Cheking the data shape and Saving the data\n",
    "print(df.shape)\n",
    "print(Y.shape)\n",
    "df.to_csv(\"./filter5x5inc.csv\")"
   ]
  },
  {
   "cell_type": "markdown",
   "id": "chicken-treasurer",
   "metadata": {
    "papermill": {
     "duration": 0.034799,
     "end_time": "2021-04-25T01:07:34.309267",
     "exception": false,
     "start_time": "2021-04-25T01:07:34.274468",
     "status": "completed"
    },
    "tags": []
   },
   "source": [
    "### 7x7 Filters"
   ]
  },
  {
   "cell_type": "code",
   "execution_count": 11,
   "id": "opposed-static",
   "metadata": {
    "execution": {
     "iopub.execute_input": "2021-04-25T01:07:34.415585Z",
     "iopub.status.busy": "2021-04-25T01:07:34.414554Z",
     "iopub.status.idle": "2021-04-25T01:25:35.487199Z",
     "shell.execute_reply": "2021-04-25T01:25:35.487789Z"
    },
    "papermill": {
     "duration": 1081.143562,
     "end_time": "2021-04-25T01:25:35.487991",
     "exception": false,
     "start_time": "2021-04-25T01:07:34.344429",
     "status": "completed"
    },
    "tags": []
   },
   "outputs": [
    {
     "name": "stdout",
     "output_type": "stream",
     "text": [
      "10000\n",
      "20000\n",
      "30000\n",
      "40000\n"
     ]
    }
   ],
   "source": [
    "df=pd.DataFrame()\n",
    "arr = np.asarray(X)\n",
    "for i in range(0,42000):  #Looping through Every row\n",
    "    x = None  #Nullifying the variables for every iteration\n",
    "    ax = None\n",
    "    xRes = None\n",
    "    array_1d = None\n",
    "    \n",
    "    xRes = np.reshape(arr[i],(-1,28))  #reshaping the data to image size\n",
    "    x = scipy.signal.convolve2d(xRes, filter7, mode='valid') #Applying convolution with one of the two Filters \n",
    "    if i == 10000 or i==20000 or i==30000 or i==40000:     # Printing the iteration value to check the progress\n",
    "        print(i)\n",
    "    ax = x\n",
    "    array_1d = ax.flatten()   #flattening the convolve data to 1d array\n",
    "    df = df.append(pd.DataFrame(array_1d).T, ignore_index=True) #appending it to the new dataframe"
   ]
  },
  {
   "cell_type": "code",
   "execution_count": 12,
   "id": "spatial-individual",
   "metadata": {
    "execution": {
     "iopub.execute_input": "2021-04-25T01:25:35.570950Z",
     "iopub.status.busy": "2021-04-25T01:25:35.570262Z",
     "iopub.status.idle": "2021-04-25T01:25:43.073341Z",
     "shell.execute_reply": "2021-04-25T01:25:43.073891Z"
    },
    "papermill": {
     "duration": 7.546933,
     "end_time": "2021-04-25T01:25:43.074090",
     "exception": false,
     "start_time": "2021-04-25T01:25:35.527157",
     "status": "completed"
    },
    "tags": []
   },
   "outputs": [
    {
     "name": "stdout",
     "output_type": "stream",
     "text": [
      "(42000, 484)\n",
      "(42000,)\n"
     ]
    }
   ],
   "source": [
    "#Cheking the data shape and Saving the data\n",
    "print(df.shape)\n",
    "print(Y.shape)\n",
    "df.to_csv(\"./filter7x7simple.csv\")"
   ]
  },
  {
   "cell_type": "code",
   "execution_count": 13,
   "id": "weird-buyer",
   "metadata": {
    "execution": {
     "iopub.execute_input": "2021-04-25T01:25:43.153133Z",
     "iopub.status.busy": "2021-04-25T01:25:43.152469Z",
     "iopub.status.idle": "2021-04-25T01:43:46.787514Z",
     "shell.execute_reply": "2021-04-25T01:43:46.788060Z"
    },
    "papermill": {
     "duration": 1083.676326,
     "end_time": "2021-04-25T01:43:46.788284",
     "exception": false,
     "start_time": "2021-04-25T01:25:43.111958",
     "status": "completed"
    },
    "tags": []
   },
   "outputs": [
    {
     "name": "stdout",
     "output_type": "stream",
     "text": [
      "10000\n",
      "20000\n",
      "30000\n",
      "40000\n"
     ]
    }
   ],
   "source": [
    "df=pd.DataFrame()\n",
    "arr = np.asarray(X)\n",
    "for i in range(0,42000):  #Looping through Every row\n",
    "    x = None  #Nullifying the variables for every iteration\n",
    "    ax = None\n",
    "    xRes = None\n",
    "    array_1d = None\n",
    "    \n",
    "    xRes = np.reshape(arr[i],(-1,28))  #reshaping the data to image size\n",
    "    x = scipy.signal.convolve2d(xRes, filter7inc, mode='valid') #Applying convolution with one of the two Filters \n",
    "    if i == 10000 or i==20000 or i==30000 or i==40000:     # Printing the iteration value to check the progress\n",
    "        print(i)\n",
    "    ax = x\n",
    "    array_1d = ax.flatten()   #flattening the convolve data to 1d array\n",
    "    df = df.append(pd.DataFrame(array_1d).T, ignore_index=True) #appending it to the new dataframe"
   ]
  },
  {
   "cell_type": "code",
   "execution_count": 14,
   "id": "surprised-vehicle",
   "metadata": {
    "execution": {
     "iopub.execute_input": "2021-04-25T01:43:46.870631Z",
     "iopub.status.busy": "2021-04-25T01:43:46.869986Z",
     "iopub.status.idle": "2021-04-25T01:43:54.491701Z",
     "shell.execute_reply": "2021-04-25T01:43:54.490996Z"
    },
    "papermill": {
     "duration": 7.664456,
     "end_time": "2021-04-25T01:43:54.491866",
     "exception": false,
     "start_time": "2021-04-25T01:43:46.827410",
     "status": "completed"
    },
    "tags": []
   },
   "outputs": [
    {
     "name": "stdout",
     "output_type": "stream",
     "text": [
      "(42000, 484)\n",
      "(42000,)\n"
     ]
    }
   ],
   "source": [
    "#Cheking the data shape and Saving the data\n",
    "print(df.shape)\n",
    "print(Y.shape)\n",
    "df.to_csv(\"./filter7x7inc.csv\")"
   ]
  },
  {
   "cell_type": "markdown",
   "id": "grateful-diamond",
   "metadata": {
    "papermill": {
     "duration": 0.039312,
     "end_time": "2021-04-25T01:43:54.571297",
     "exception": false,
     "start_time": "2021-04-25T01:43:54.531985",
     "status": "completed"
    },
    "tags": []
   },
   "source": [
    "### 9x9 Filters"
   ]
  },
  {
   "cell_type": "code",
   "execution_count": 15,
   "id": "creative-trick",
   "metadata": {
    "execution": {
     "iopub.execute_input": "2021-04-25T01:43:54.669041Z",
     "iopub.status.busy": "2021-04-25T01:43:54.668276Z",
     "iopub.status.idle": "2021-04-25T01:58:48.589752Z",
     "shell.execute_reply": "2021-04-25T01:58:48.589170Z"
    },
    "papermill": {
     "duration": 893.979154,
     "end_time": "2021-04-25T01:58:48.589938",
     "exception": false,
     "start_time": "2021-04-25T01:43:54.610784",
     "status": "completed"
    },
    "tags": []
   },
   "outputs": [
    {
     "name": "stdout",
     "output_type": "stream",
     "text": [
      "10000\n",
      "20000\n",
      "30000\n",
      "40000\n"
     ]
    }
   ],
   "source": [
    "df=pd.DataFrame()\n",
    "arr = np.asarray(X)\n",
    "for i in range(0,42000):  #Looping through Every row\n",
    "    x = None  #Nullifying the variables for every iteration\n",
    "    ax = None\n",
    "    xRes = None\n",
    "    array_1d = None\n",
    "    \n",
    "    xRes = np.reshape(arr[i],(-1,28))  #reshaping the data to image size\n",
    "    x = scipy.signal.convolve2d(xRes, filter9, mode='valid') #Applying convolution with one of the two Filters \n",
    "    if i == 10000 or i==20000 or i==30000 or i==40000:     # Printing the iteration value to check the progress\n",
    "        print(i)\n",
    "    ax = x\n",
    "    array_1d = ax.flatten()   #flattening the convolve data to 1d array\n",
    "    df = df.append(pd.DataFrame(array_1d).T, ignore_index=True) #appending it to the new dataframe"
   ]
  },
  {
   "cell_type": "code",
   "execution_count": 16,
   "id": "classified-cycle",
   "metadata": {
    "execution": {
     "iopub.execute_input": "2021-04-25T01:58:48.683140Z",
     "iopub.status.busy": "2021-04-25T01:58:48.682406Z",
     "iopub.status.idle": "2021-04-25T01:58:55.580514Z",
     "shell.execute_reply": "2021-04-25T01:58:55.579965Z"
    },
    "papermill": {
     "duration": 6.947356,
     "end_time": "2021-04-25T01:58:55.580667",
     "exception": false,
     "start_time": "2021-04-25T01:58:48.633311",
     "status": "completed"
    },
    "tags": []
   },
   "outputs": [
    {
     "name": "stdout",
     "output_type": "stream",
     "text": [
      "(42000, 400)\n",
      "(42000,)\n"
     ]
    }
   ],
   "source": [
    "#Cheking the data shape and Saving the data\n",
    "print(df.shape)\n",
    "print(Y.shape)\n",
    "df.to_csv(\"./filter9x9.csv\")"
   ]
  },
  {
   "cell_type": "code",
   "execution_count": 17,
   "id": "opened-picnic",
   "metadata": {
    "execution": {
     "iopub.execute_input": "2021-04-25T01:58:55.666855Z",
     "iopub.status.busy": "2021-04-25T01:58:55.666201Z",
     "iopub.status.idle": "2021-04-25T02:13:50.075542Z",
     "shell.execute_reply": "2021-04-25T02:13:50.076051Z"
    },
    "papermill": {
     "duration": 894.454191,
     "end_time": "2021-04-25T02:13:50.076249",
     "exception": false,
     "start_time": "2021-04-25T01:58:55.622058",
     "status": "completed"
    },
    "tags": []
   },
   "outputs": [
    {
     "name": "stdout",
     "output_type": "stream",
     "text": [
      "10000\n",
      "20000\n",
      "30000\n",
      "40000\n"
     ]
    }
   ],
   "source": [
    "df=pd.DataFrame()\n",
    "arr = np.asarray(X)\n",
    "for i in range(0,42000):  #Looping through Every row\n",
    "    x = None  #Nullifying the variables for every iteration\n",
    "    ax = None\n",
    "    xRes = None\n",
    "    array_1d = None\n",
    "    \n",
    "    xRes = np.reshape(arr[i],(-1,28))  #reshaping the data to image size\n",
    "    x = scipy.signal.convolve2d(xRes, filter9inc, mode='valid') #Applying convolution with one of the two Filters \n",
    "    if i == 10000 or i==20000 or i==30000 or i==40000:     # Printing the iteration value to check the progress\n",
    "        print(i)\n",
    "    ax = x\n",
    "    array_1d = ax.flatten()   #flattening the convolve data to 1d array\n",
    "    df = df.append(pd.DataFrame(array_1d).T, ignore_index=True) #appending it to the new dataframe"
   ]
  },
  {
   "cell_type": "code",
   "execution_count": 18,
   "id": "boxed-macro",
   "metadata": {
    "execution": {
     "iopub.execute_input": "2021-04-25T02:13:50.164695Z",
     "iopub.status.busy": "2021-04-25T02:13:50.164082Z",
     "iopub.status.idle": "2021-04-25T02:13:57.390436Z",
     "shell.execute_reply": "2021-04-25T02:13:57.390942Z"
    },
    "papermill": {
     "duration": 7.272581,
     "end_time": "2021-04-25T02:13:57.391126",
     "exception": false,
     "start_time": "2021-04-25T02:13:50.118545",
     "status": "completed"
    },
    "tags": []
   },
   "outputs": [
    {
     "name": "stdout",
     "output_type": "stream",
     "text": [
      "(42000, 400)\n",
      "(42000,)\n"
     ]
    }
   ],
   "source": [
    "#Cheking the data shape and Saving the data\n",
    "print(df.shape)\n",
    "print(Y.shape)\n",
    "df.to_csv(\"./filter9x9inc.csv\")"
   ]
  },
  {
   "cell_type": "markdown",
   "id": "advised-mixer",
   "metadata": {
    "papermill": {
     "duration": 0.042718,
     "end_time": "2021-04-25T02:13:57.476782",
     "exception": false,
     "start_time": "2021-04-25T02:13:57.434064",
     "status": "completed"
    },
    "tags": []
   },
   "source": [
    "## Now using the New(Convoluted) Datasets"
   ]
  },
  {
   "cell_type": "code",
   "execution_count": 19,
   "id": "frequent-laugh",
   "metadata": {
    "execution": {
     "iopub.execute_input": "2021-04-25T02:13:57.570620Z",
     "iopub.status.busy": "2021-04-25T02:13:57.569807Z",
     "iopub.status.idle": "2021-04-25T02:14:18.065657Z",
     "shell.execute_reply": "2021-04-25T02:14:18.066185Z"
    },
    "papermill": {
     "duration": 20.547051,
     "end_time": "2021-04-25T02:14:18.066369",
     "exception": false,
     "start_time": "2021-04-25T02:13:57.519318",
     "status": "completed"
    },
    "tags": []
   },
   "outputs": [],
   "source": [
    "#Importing the dataset and deleting the extra column\n",
    "df = pd.read_csv('../input/digit-recognizer/train.csv')\n",
    "df5=pd.read_csv('../input/full-and-finalproject/filter5x5simple.csv')\n",
    "del df5['Unnamed: 0']\n",
    "df5inc=pd.read_csv('../input/full-and-finalproject/filter5x5inc.csv')\n",
    "del df5inc['Unnamed: 0']\n",
    "df7=pd.read_csv('../input/full-and-finalproject/filter7x7simple.csv')\n",
    "del df7['Unnamed: 0']\n",
    "df7inc=pd.read_csv('../input/full-and-finalproject/filter7x7inc.csv')\n",
    "del df7inc['Unnamed: 0']\n",
    "df9=pd.read_csv('../input/full-and-finalproject/filter9x9.csv')\n",
    "del df9['Unnamed: 0']\n",
    "df9inc=pd.read_csv('../input/full-and-finalproject/filter9x9inc.csv')\n",
    "del df9inc['Unnamed: 0']\n",
    "#making the dataframe for accuracy\n",
    "dfacc=pd.DataFrame(columns=[\"FilterSize\",\"Model Used\",\"Accuracy\"])\n"
   ]
  },
  {
   "cell_type": "code",
   "execution_count": 20,
   "id": "fitting-sandwich",
   "metadata": {
    "execution": {
     "iopub.execute_input": "2021-04-25T02:14:18.159927Z",
     "iopub.status.busy": "2021-04-25T02:14:18.158976Z",
     "iopub.status.idle": "2021-04-25T02:14:18.161970Z",
     "shell.execute_reply": "2021-04-25T02:14:18.161431Z"
    },
    "papermill": {
     "duration": 0.051265,
     "end_time": "2021-04-25T02:14:18.162117",
     "exception": false,
     "start_time": "2021-04-25T02:14:18.110852",
     "status": "completed"
    },
    "tags": []
   },
   "outputs": [],
   "source": [
    "#method to insert acc in dataframe\n",
    "def insertAcc(dff,filters,model,acc):\n",
    "    lst=[filters,model,acc]\n",
    "    dff.loc[len(dff)] = lst"
   ]
  },
  {
   "cell_type": "markdown",
   "id": "convenient-creek",
   "metadata": {
    "papermill": {
     "duration": 0.044049,
     "end_time": "2021-04-25T02:14:18.250745",
     "exception": false,
     "start_time": "2021-04-25T02:14:18.206696",
     "status": "completed"
    },
    "tags": []
   },
   "source": [
    "## Methods To be used on all 6 Datasets"
   ]
  },
  {
   "cell_type": "code",
   "execution_count": 21,
   "id": "regular-desert",
   "metadata": {
    "execution": {
     "iopub.execute_input": "2021-04-25T02:14:18.356980Z",
     "iopub.status.busy": "2021-04-25T02:14:18.356197Z",
     "iopub.status.idle": "2021-04-25T02:14:18.359674Z",
     "shell.execute_reply": "2021-04-25T02:14:18.359131Z"
    },
    "papermill": {
     "duration": 0.064378,
     "end_time": "2021-04-25T02:14:18.359839",
     "exception": false,
     "start_time": "2021-04-25T02:14:18.295461",
     "status": "completed"
    },
    "tags": []
   },
   "outputs": [],
   "source": [
    "y = df[\"label\"]\n",
    "meanScores=[]\n",
    "def predOnDf(dataf,y,fSzie,dfacc):\n",
    "    X = dataf #Creating X for Train_test_split\n",
    "    X_train, X_test, y_train, y_test = train_test_split(X, y, test_size=0.1, random_state=42) #spliting\n",
    "    # ***************************** Multinomial NB *****************************\n",
    "    mnb = MultinomialNB()\n",
    "    mnb.fit(X_train, y_train)\n",
    "    mnbYPred = mnb.predict(X_test)\n",
    "    mnbAcc = metrics.accuracy_score(y_test, mnbYPred)\n",
    "    print (\"Naive Bayes Accuracy: \", mnbAcc*100)\n",
    "    insertAcc(dfacc,fSzie,\"Naive Bayes\",mnbAcc*100) #inserting accuracy into dataframe\n",
    "    nb_scores = cross_val_score(mnb, X_train, y_train, cv=6)\n",
    "    print('Naive Bayes Scores: ',nb_scores)\n",
    "    # ***************************** SVM *****************************\n",
    "    svmModel = SVC(kernel=\"rbf\", random_state=42, verbose=True,C=9)\n",
    "    svmModel.fit(X_train, y_train)\n",
    "    svmYpred = svmModel.predict(X_test)\n",
    "    svmAcc = metrics.accuracy_score(y_test,svmYpred)\n",
    "    print('SVM Accuracy: ', svmAcc*100)\n",
    "    insertAcc(dfacc,fSzie,\"SVM\",svmAcc*100) #inserting accuracy into dataframe\n",
    "    svc_scores = cross_val_score(svmModel, X_train, y_train, cv=6)\n",
    "    print('SVC Scores: ',svc_scores)\n",
    "    # ***************************** Linear Regression *****************************\n",
    "    reg = LinearRegression()\n",
    "    reg.fit(X_train, y_train)\n",
    "    regYpred = reg.predict(X_test)\n",
    "    regAcc = metrics.r2_score(y_test,regYpred) \n",
    "    print('Linear Regression Accuracy: ', regAcc*100)\n",
    "    insertAcc(dfacc,fSzie,\"Linear Regression\",regAcc*100)#inserting accuracy into dataframe\n",
    "    reg_scores = cross_val_score(reg, X_train, y_train, cv=6)\n",
    "    print('Reg Scores: ',reg_scores)\n",
    "    # *****************************  KNN *****************************\n",
    "    KNNmodel = KNeighborsClassifier()\n",
    "    KNNmodel.fit(X_train, y_train)\n",
    "    knnYpred = KNNmodel.predict(X_test)\n",
    "    knnAcc = metrics.accuracy_score(y_test, knnYpred)\n",
    "    print('KNN Accuracy: ',knnAcc*100)\n",
    "    insertAcc(dfacc,fSzie,\"KNN\",knnAcc*100)#inserting accuracy into dataframe\n",
    "    knn_scores = cross_val_score(KNNmodel, X_train, y_train, cv=6)\n",
    "    print('KNN Scores: ',knn_scores)\n",
    "    #MeanScores\n",
    "    meanScores.append(reg_scores.mean())\n",
    "    meanScores.append(nb_scores.mean())\n",
    "    meanScores.append(svc_scores.mean())\n",
    "    meanScores.append(knn_scores.mean())\n",
    "    print(dfacc)"
   ]
  },
  {
   "cell_type": "markdown",
   "id": "naval-shade",
   "metadata": {
    "papermill": {
     "duration": 0.044775,
     "end_time": "2021-04-25T02:14:18.449126",
     "exception": false,
     "start_time": "2021-04-25T02:14:18.404351",
     "status": "completed"
    },
    "tags": []
   },
   "source": [
    "## Making Predictions"
   ]
  },
  {
   "cell_type": "markdown",
   "id": "martial-occasion",
   "metadata": {
    "papermill": {
     "duration": 0.044899,
     "end_time": "2021-04-25T02:14:18.538024",
     "exception": false,
     "start_time": "2021-04-25T02:14:18.493125",
     "status": "completed"
    },
    "tags": []
   },
   "source": [
    "### For 5x5 Datasets"
   ]
  },
  {
   "cell_type": "code",
   "execution_count": 22,
   "id": "atlantic-restaurant",
   "metadata": {
    "execution": {
     "iopub.execute_input": "2021-04-25T02:14:18.633078Z",
     "iopub.status.busy": "2021-04-25T02:14:18.632345Z",
     "iopub.status.idle": "2021-04-25T02:22:57.995996Z",
     "shell.execute_reply": "2021-04-25T02:22:57.996572Z"
    },
    "papermill": {
     "duration": 519.415005,
     "end_time": "2021-04-25T02:22:57.996976",
     "exception": false,
     "start_time": "2021-04-25T02:14:18.581971",
     "status": "completed"
    },
    "tags": []
   },
   "outputs": [
    {
     "name": "stdout",
     "output_type": "stream",
     "text": [
      "Naive Bayes Accuracy:  76.14285714285714\n",
      "Naive Bayes Scores:  [0.77047619 0.75634921 0.76301587 0.76825397 0.76396825 0.77095238]\n",
      "[LibSVM]SVM Accuracy:  97.90476190476191\n",
      "[LibSVM][LibSVM][LibSVM][LibSVM][LibSVM][LibSVM]SVC Scores:  [0.97968254 0.98111111 0.97619048 0.98063492 0.97698413 0.97888889]\n",
      "Linear Regression Accuracy:  60.54374415007434\n",
      "Reg Scores:  [ 6.11267232e-01 -4.22540300e+13  6.05579727e-01  6.06777387e-01\n",
      "  5.81405968e-01  5.96007139e-01]\n",
      "KNN Accuracy:  96.61904761904762\n",
      "KNN Scores:  [0.96698413 0.96238095 0.9652381  0.96793651 0.9652381  0.9684127 ]\n",
      "  FilterSize         Model Used   Accuracy\n",
      "0  5x5simple        Naive Bayes  76.142857\n",
      "1  5x5simple                SVM  97.904762\n",
      "2  5x5simple  Linear Regression  60.543744\n",
      "3  5x5simple                KNN  96.619048\n"
     ]
    }
   ],
   "source": [
    "predOnDf(df5,y,\"5x5simple\",dfacc)"
   ]
  },
  {
   "cell_type": "code",
   "execution_count": 23,
   "id": "thirty-explanation",
   "metadata": {
    "execution": {
     "iopub.execute_input": "2021-04-25T02:22:58.109598Z",
     "iopub.status.busy": "2021-04-25T02:22:58.108907Z",
     "iopub.status.idle": "2021-04-25T02:31:32.897203Z",
     "shell.execute_reply": "2021-04-25T02:31:32.897735Z"
    },
    "papermill": {
     "duration": 514.848738,
     "end_time": "2021-04-25T02:31:32.898017",
     "exception": false,
     "start_time": "2021-04-25T02:22:58.049279",
     "status": "completed"
    },
    "tags": []
   },
   "outputs": [
    {
     "name": "stdout",
     "output_type": "stream",
     "text": [
      "Naive Bayes Accuracy:  77.14285714285715\n",
      "Naive Bayes Scores:  [0.78079365 0.76888889 0.77587302 0.77825397 0.77174603 0.7831746 ]\n",
      "[LibSVM]SVM Accuracy:  98.11904761904762\n",
      "[LibSVM][LibSVM][LibSVM][LibSVM][LibSVM][LibSVM]SVC Scores:  [0.98079365 0.98126984 0.97857143 0.98111111 0.97904762 0.98142857]\n",
      "Linear Regression Accuracy:  60.76247887043299\n",
      "Reg Scores:  [0.61294836 0.59721664 0.61514884 0.61051926 0.60556645 0.59838609]\n",
      "KNN Accuracy:  96.78571428571429\n",
      "KNN Scores:  [0.97095238 0.96714286 0.96777778 0.97238095 0.9684127  0.97047619]\n",
      "  FilterSize         Model Used   Accuracy\n",
      "0  5x5simple        Naive Bayes  76.142857\n",
      "1  5x5simple                SVM  97.904762\n",
      "2  5x5simple  Linear Regression  60.543744\n",
      "3  5x5simple                KNN  96.619048\n",
      "4     5x5inc        Naive Bayes  77.142857\n",
      "5     5x5inc                SVM  98.119048\n",
      "6     5x5inc  Linear Regression  60.762479\n",
      "7     5x5inc                KNN  96.785714\n"
     ]
    }
   ],
   "source": [
    "predOnDf(df5inc,y,\"5x5inc\",dfacc)"
   ]
  },
  {
   "cell_type": "markdown",
   "id": "palestinian-equality",
   "metadata": {
    "papermill": {
     "duration": 0.052109,
     "end_time": "2021-04-25T02:31:33.002552",
     "exception": false,
     "start_time": "2021-04-25T02:31:32.950443",
     "status": "completed"
    },
    "tags": []
   },
   "source": [
    "### For 7x7 Datasets"
   ]
  },
  {
   "cell_type": "code",
   "execution_count": 24,
   "id": "lucky-chapter",
   "metadata": {
    "execution": {
     "iopub.execute_input": "2021-04-25T02:31:33.117161Z",
     "iopub.status.busy": "2021-04-25T02:31:33.116006Z",
     "iopub.status.idle": "2021-04-25T02:39:53.007028Z",
     "shell.execute_reply": "2021-04-25T02:39:53.007575Z"
    },
    "papermill": {
     "duration": 499.950761,
     "end_time": "2021-04-25T02:39:53.007783",
     "exception": false,
     "start_time": "2021-04-25T02:31:33.057022",
     "status": "completed"
    },
    "tags": []
   },
   "outputs": [
    {
     "name": "stdout",
     "output_type": "stream",
     "text": [
      "Naive Bayes Accuracy:  71.02380952380952\n",
      "Naive Bayes Scores:  [0.71952381 0.70650794 0.70936508 0.72031746 0.7115873  0.71888889]\n",
      "[LibSVM]SVM Accuracy:  97.4047619047619\n",
      "[LibSVM][LibSVM][LibSVM][LibSVM][LibSVM][LibSVM]SVC Scores:  [0.97460317 0.97349206 0.97095238 0.9747619  0.97222222 0.97571429]\n",
      "Linear Regression Accuracy:  60.49792885212695\n",
      "Reg Scores:  [0.61116288 0.59944854 0.61195009 0.60928304 0.60598563 0.59680395]\n",
      "KNN Accuracy:  94.88095238095238\n",
      "KNN Scores:  [0.95174603 0.94079365 0.94777778 0.9484127  0.94571429 0.95126984]\n",
      "   FilterSize         Model Used   Accuracy\n",
      "0   5x5simple        Naive Bayes  76.142857\n",
      "1   5x5simple                SVM  97.904762\n",
      "2   5x5simple  Linear Regression  60.543744\n",
      "3   5x5simple                KNN  96.619048\n",
      "4      5x5inc        Naive Bayes  77.142857\n",
      "5      5x5inc                SVM  98.119048\n",
      "6      5x5inc  Linear Regression  60.762479\n",
      "7      5x5inc                KNN  96.785714\n",
      "8   7x7simple        Naive Bayes  71.023810\n",
      "9   7x7simple                SVM  97.404762\n",
      "10  7x7simple  Linear Regression  60.497929\n",
      "11  7x7simple                KNN  94.880952\n"
     ]
    }
   ],
   "source": [
    "predOnDf(df7,y,\"7x7simple\",dfacc)"
   ]
  },
  {
   "cell_type": "code",
   "execution_count": 25,
   "id": "serial-forestry",
   "metadata": {
    "execution": {
     "iopub.execute_input": "2021-04-25T02:39:53.133245Z",
     "iopub.status.busy": "2021-04-25T02:39:53.132161Z",
     "iopub.status.idle": "2021-04-25T02:47:36.166511Z",
     "shell.execute_reply": "2021-04-25T02:47:36.167076Z"
    },
    "papermill": {
     "duration": 463.100441,
     "end_time": "2021-04-25T02:47:36.167295",
     "exception": false,
     "start_time": "2021-04-25T02:39:53.066854",
     "status": "completed"
    },
    "tags": []
   },
   "outputs": [
    {
     "name": "stdout",
     "output_type": "stream",
     "text": [
      "Naive Bayes Accuracy:  73.33333333333333\n",
      "Naive Bayes Scores:  [0.74206349 0.72936508 0.73666667 0.74301587 0.73746032 0.74587302]\n",
      "[LibSVM]SVM Accuracy:  97.73809523809524\n",
      "[LibSVM][LibSVM][LibSVM][LibSVM][LibSVM][LibSVM]SVC Scores:  [0.97650794 0.97984127 0.97587302 0.97904762 0.97825397 0.97714286]\n",
      "Linear Regression Accuracy:  60.60312330604967\n",
      "Reg Scores:  [0.61059663 0.59836508 0.61194094 0.60799098 0.60358018 0.59583541]\n",
      "KNN Accuracy:  95.88095238095238\n",
      "KNN Scores:  [0.95809524 0.95444444 0.95936508 0.95904762 0.9584127  0.96      ]\n",
      "   FilterSize         Model Used   Accuracy\n",
      "0   5x5simple        Naive Bayes  76.142857\n",
      "1   5x5simple                SVM  97.904762\n",
      "2   5x5simple  Linear Regression  60.543744\n",
      "3   5x5simple                KNN  96.619048\n",
      "4      5x5inc        Naive Bayes  77.142857\n",
      "5      5x5inc                SVM  98.119048\n",
      "6      5x5inc  Linear Regression  60.762479\n",
      "7      5x5inc                KNN  96.785714\n",
      "8   7x7simple        Naive Bayes  71.023810\n",
      "9   7x7simple                SVM  97.404762\n",
      "10  7x7simple  Linear Regression  60.497929\n",
      "11  7x7simple                KNN  94.880952\n",
      "12     7x7inc        Naive Bayes  73.333333\n",
      "13     7x7inc                SVM  97.738095\n",
      "14     7x7inc  Linear Regression  60.603123\n",
      "15     7x7inc                KNN  95.880952\n"
     ]
    }
   ],
   "source": [
    "predOnDf(df7inc,y,\"7x7inc\",dfacc)"
   ]
  },
  {
   "cell_type": "markdown",
   "id": "saving-relationship",
   "metadata": {
    "papermill": {
     "duration": 0.063991,
     "end_time": "2021-04-25T02:47:36.295331",
     "exception": false,
     "start_time": "2021-04-25T02:47:36.231340",
     "status": "completed"
    },
    "tags": []
   },
   "source": [
    "### For 9x9 Dataset"
   ]
  },
  {
   "cell_type": "code",
   "execution_count": 26,
   "id": "composite-skating",
   "metadata": {
    "execution": {
     "iopub.execute_input": "2021-04-25T02:47:36.428020Z",
     "iopub.status.busy": "2021-04-25T02:47:36.427301Z",
     "iopub.status.idle": "2021-04-25T02:55:55.632562Z",
     "shell.execute_reply": "2021-04-25T02:55:55.633137Z"
    },
    "papermill": {
     "duration": 499.275701,
     "end_time": "2021-04-25T02:55:55.633342",
     "exception": false,
     "start_time": "2021-04-25T02:47:36.357641",
     "status": "completed"
    },
    "tags": []
   },
   "outputs": [
    {
     "name": "stdout",
     "output_type": "stream",
     "text": [
      "Naive Bayes Accuracy:  67.23809523809524\n",
      "Naive Bayes Scores:  [0.68349206 0.67206349 0.6715873  0.68095238 0.68063492 0.68238095]\n",
      "[LibSVM]SVM Accuracy:  96.30952380952381\n",
      "[LibSVM][LibSVM][LibSVM][LibSVM][LibSVM][LibSVM]SVC Scores:  [0.96730159 0.96650794 0.96444444 0.97047619 0.96301587 0.96809524]\n",
      "Linear Regression Accuracy:  -154707922974569.12\n",
      "Reg Scores:  [ 5.80077570e-01 -1.43201009e+11  5.88099953e-01  5.84702382e-01\n",
      " -1.90951196e+10  5.70299132e-01]\n",
      "KNN Accuracy:  92.54761904761905\n",
      "KNN Scores:  [0.92571429 0.92142857 0.92603175 0.92079365 0.92111111 0.92857143]\n",
      "   FilterSize         Model Used      Accuracy\n",
      "0   5x5simple        Naive Bayes  7.614286e+01\n",
      "1   5x5simple                SVM  9.790476e+01\n",
      "2   5x5simple  Linear Regression  6.054374e+01\n",
      "3   5x5simple                KNN  9.661905e+01\n",
      "4      5x5inc        Naive Bayes  7.714286e+01\n",
      "5      5x5inc                SVM  9.811905e+01\n",
      "6      5x5inc  Linear Regression  6.076248e+01\n",
      "7      5x5inc                KNN  9.678571e+01\n",
      "8   7x7simple        Naive Bayes  7.102381e+01\n",
      "9   7x7simple                SVM  9.740476e+01\n",
      "10  7x7simple  Linear Regression  6.049793e+01\n",
      "11  7x7simple                KNN  9.488095e+01\n",
      "12     7x7inc        Naive Bayes  7.333333e+01\n",
      "13     7x7inc                SVM  9.773810e+01\n",
      "14     7x7inc  Linear Regression  6.060312e+01\n",
      "15     7x7inc                KNN  9.588095e+01\n",
      "16  9x9simple        Naive Bayes  6.723810e+01\n",
      "17  9x9simple                SVM  9.630952e+01\n",
      "18  9x9simple  Linear Regression -1.547079e+14\n",
      "19  9x9simple                KNN  9.254762e+01\n"
     ]
    }
   ],
   "source": [
    "predOnDf(df9,y,\"9x9simple\",dfacc)"
   ]
  },
  {
   "cell_type": "code",
   "execution_count": 27,
   "id": "adjustable-yellow",
   "metadata": {
    "execution": {
     "iopub.execute_input": "2021-04-25T02:55:55.779327Z",
     "iopub.status.busy": "2021-04-25T02:55:55.778606Z",
     "iopub.status.idle": "2021-04-25T03:03:06.238005Z",
     "shell.execute_reply": "2021-04-25T03:03:06.238546Z"
    },
    "papermill": {
     "duration": 430.537301,
     "end_time": "2021-04-25T03:03:06.238742",
     "exception": false,
     "start_time": "2021-04-25T02:55:55.701441",
     "status": "completed"
    },
    "tags": []
   },
   "outputs": [
    {
     "name": "stdout",
     "output_type": "stream",
     "text": [
      "Naive Bayes Accuracy:  70.38095238095238\n",
      "Naive Bayes Scores:  [0.71380952 0.69904762 0.70730159 0.71206349 0.70904762 0.71333333]\n",
      "[LibSVM]SVM Accuracy:  97.14285714285714\n",
      "[LibSVM][LibSVM][LibSVM][LibSVM][LibSVM][LibSVM]SVC Scores:  [0.97253968 0.97285714 0.97079365 0.9747619  0.97238095 0.97365079]\n",
      "Linear Regression Accuracy:  60.35209906710299\n",
      "Reg Scores:  [0.60667466 0.59376053 0.60774287 0.60560832 0.60504998 0.59386343]\n",
      "KNN Accuracy:  94.35714285714286\n",
      "KNN Scores:  [0.94285714 0.93555556 0.94063492 0.94142857 0.93968254 0.9447619 ]\n",
      "   FilterSize         Model Used      Accuracy\n",
      "0   5x5simple        Naive Bayes  7.614286e+01\n",
      "1   5x5simple                SVM  9.790476e+01\n",
      "2   5x5simple  Linear Regression  6.054374e+01\n",
      "3   5x5simple                KNN  9.661905e+01\n",
      "4      5x5inc        Naive Bayes  7.714286e+01\n",
      "5      5x5inc                SVM  9.811905e+01\n",
      "6      5x5inc  Linear Regression  6.076248e+01\n",
      "7      5x5inc                KNN  9.678571e+01\n",
      "8   7x7simple        Naive Bayes  7.102381e+01\n",
      "9   7x7simple                SVM  9.740476e+01\n",
      "10  7x7simple  Linear Regression  6.049793e+01\n",
      "11  7x7simple                KNN  9.488095e+01\n",
      "12     7x7inc        Naive Bayes  7.333333e+01\n",
      "13     7x7inc                SVM  9.773810e+01\n",
      "14     7x7inc  Linear Regression  6.060312e+01\n",
      "15     7x7inc                KNN  9.588095e+01\n",
      "16  9x9simple        Naive Bayes  6.723810e+01\n",
      "17  9x9simple                SVM  9.630952e+01\n",
      "18  9x9simple  Linear Regression -1.547079e+14\n",
      "19  9x9simple                KNN  9.254762e+01\n",
      "20     9x9inc        Naive Bayes  7.038095e+01\n",
      "21     9x9inc                SVM  9.714286e+01\n",
      "22     9x9inc  Linear Regression  6.035210e+01\n",
      "23     9x9inc                KNN  9.435714e+01\n"
     ]
    }
   ],
   "source": [
    "predOnDf(df9inc,y,\"9x9inc\",dfacc)"
   ]
  },
  {
   "cell_type": "markdown",
   "id": "cellular-angle",
   "metadata": {
    "papermill": {
     "duration": 0.071909,
     "end_time": "2021-04-25T03:03:06.383841",
     "exception": false,
     "start_time": "2021-04-25T03:03:06.311932",
     "status": "completed"
    },
    "tags": []
   },
   "source": [
    "### Cross Validation"
   ]
  },
  {
   "cell_type": "code",
   "execution_count": 28,
   "id": "committed-combining",
   "metadata": {
    "execution": {
     "iopub.execute_input": "2021-04-25T03:03:06.548695Z",
     "iopub.status.busy": "2021-04-25T03:03:06.547914Z",
     "iopub.status.idle": "2021-04-25T03:03:06.561574Z",
     "shell.execute_reply": "2021-04-25T03:03:06.560905Z"
    },
    "papermill": {
     "duration": 0.106226,
     "end_time": "2021-04-25T03:03:06.561721",
     "exception": false,
     "start_time": "2021-04-25T03:03:06.455495",
     "status": "completed"
    },
    "tags": []
   },
   "outputs": [
    {
     "data": {
      "text/html": [
       "<div>\n",
       "<style scoped>\n",
       "    .dataframe tbody tr th:only-of-type {\n",
       "        vertical-align: middle;\n",
       "    }\n",
       "\n",
       "    .dataframe tbody tr th {\n",
       "        vertical-align: top;\n",
       "    }\n",
       "\n",
       "    .dataframe thead th {\n",
       "        text-align: right;\n",
       "    }\n",
       "</style>\n",
       "<table border=\"1\" class=\"dataframe\">\n",
       "  <thead>\n",
       "    <tr style=\"text-align: right;\">\n",
       "      <th></th>\n",
       "      <th>Size</th>\n",
       "      <th>Naive Bayes</th>\n",
       "      <th>SVM</th>\n",
       "      <th>Linear Regression</th>\n",
       "      <th>KNN</th>\n",
       "    </tr>\n",
       "  </thead>\n",
       "  <tbody>\n",
       "    <tr>\n",
       "      <th>0</th>\n",
       "      <td>5x5</td>\n",
       "      <td>-7.042338e+12</td>\n",
       "      <td>0.765503</td>\n",
       "      <td>0.978915</td>\n",
       "      <td>0.966032</td>\n",
       "    </tr>\n",
       "    <tr>\n",
       "      <th>1</th>\n",
       "      <td>5x5inc</td>\n",
       "      <td>6.066309e-01</td>\n",
       "      <td>0.776455</td>\n",
       "      <td>0.980370</td>\n",
       "      <td>0.969524</td>\n",
       "    </tr>\n",
       "    <tr>\n",
       "      <th>2</th>\n",
       "      <td>7x7</td>\n",
       "      <td>6.057724e-01</td>\n",
       "      <td>0.714365</td>\n",
       "      <td>0.973624</td>\n",
       "      <td>0.947619</td>\n",
       "    </tr>\n",
       "    <tr>\n",
       "      <th>3</th>\n",
       "      <td>7x7inc</td>\n",
       "      <td>6.047182e-01</td>\n",
       "      <td>0.739074</td>\n",
       "      <td>0.977778</td>\n",
       "      <td>0.958228</td>\n",
       "    </tr>\n",
       "    <tr>\n",
       "      <th>4</th>\n",
       "      <td>9x9</td>\n",
       "      <td>-2.704935e+10</td>\n",
       "      <td>0.678519</td>\n",
       "      <td>0.966640</td>\n",
       "      <td>0.923942</td>\n",
       "    </tr>\n",
       "    <tr>\n",
       "      <th>5</th>\n",
       "      <td>9x9inc</td>\n",
       "      <td>6.021166e-01</td>\n",
       "      <td>0.709101</td>\n",
       "      <td>0.972831</td>\n",
       "      <td>0.940820</td>\n",
       "    </tr>\n",
       "  </tbody>\n",
       "</table>\n",
       "</div>"
      ],
      "text/plain": [
       "     Size   Naive Bayes       SVM  Linear Regression       KNN\n",
       "0     5x5 -7.042338e+12  0.765503           0.978915  0.966032\n",
       "1  5x5inc  6.066309e-01  0.776455           0.980370  0.969524\n",
       "2     7x7  6.057724e-01  0.714365           0.973624  0.947619\n",
       "3  7x7inc  6.047182e-01  0.739074           0.977778  0.958228\n",
       "4     9x9 -2.704935e+10  0.678519           0.966640  0.923942\n",
       "5  9x9inc  6.021166e-01  0.709101           0.972831  0.940820"
      ]
     },
     "execution_count": 28,
     "metadata": {},
     "output_type": "execute_result"
    }
   ],
   "source": [
    "meanScores=np.array_split(meanScores, 6)\n",
    "nb=[meanScores[0][0],meanScores[1][0],meanScores[2][0],meanScores[3][0],meanScores[4][0],meanScores[5][0]]\n",
    "svm=[meanScores[0][1],meanScores[1][1],meanScores[2][1],meanScores[3][1],meanScores[4][1],meanScores[5][1]]\n",
    "lr=[meanScores[0][2],meanScores[1][2],meanScores[2][2],meanScores[3][2],meanScores[4][2],meanScores[5][2]]\n",
    "knn=[meanScores[0][3],meanScores[1][3],meanScores[2][3],meanScores[3][3],meanScores[4][3],meanScores[5][3]]\n",
    "\n",
    "models=['Naive Bayes','SVM','Linear Regression','KNN']\n",
    "#df of cross calidation scores\n",
    "cv = {'Size': [ '5x5', '5x5inc','7x7','7x7inc','9x9','9x9inc'], \n",
    "    models[0]: nb,models[1]: svm,models[2]: lr,models[3]: knn}\n",
    "\n",
    "cv_df = pd.DataFrame(cv)\n",
    "cv_df"
   ]
  },
  {
   "cell_type": "code",
   "execution_count": 29,
   "id": "protective-vocabulary",
   "metadata": {
    "execution": {
     "iopub.execute_input": "2021-04-25T03:03:06.727445Z",
     "iopub.status.busy": "2021-04-25T03:03:06.726432Z",
     "iopub.status.idle": "2021-04-25T03:03:06.732254Z",
     "shell.execute_reply": "2021-04-25T03:03:06.731580Z"
    },
    "papermill": {
     "duration": 0.093793,
     "end_time": "2021-04-25T03:03:06.732399",
     "exception": false,
     "start_time": "2021-04-25T03:03:06.638606",
     "status": "completed"
    },
    "tags": []
   },
   "outputs": [
    {
     "data": {
      "text/html": [
       "<div>\n",
       "<style scoped>\n",
       "    .dataframe tbody tr th:only-of-type {\n",
       "        vertical-align: middle;\n",
       "    }\n",
       "\n",
       "    .dataframe tbody tr th {\n",
       "        vertical-align: top;\n",
       "    }\n",
       "\n",
       "    .dataframe thead th {\n",
       "        text-align: right;\n",
       "    }\n",
       "</style>\n",
       "<table border=\"1\" class=\"dataframe\">\n",
       "  <thead>\n",
       "    <tr style=\"text-align: right;\">\n",
       "      <th></th>\n",
       "      <th>FilterSize</th>\n",
       "      <th>Model Used</th>\n",
       "      <th>Accuracy</th>\n",
       "    </tr>\n",
       "  </thead>\n",
       "  <tbody>\n",
       "    <tr>\n",
       "      <th>5</th>\n",
       "      <td>5x5inc</td>\n",
       "      <td>SVM</td>\n",
       "      <td>9.811905e+01</td>\n",
       "    </tr>\n",
       "    <tr>\n",
       "      <th>1</th>\n",
       "      <td>5x5simple</td>\n",
       "      <td>SVM</td>\n",
       "      <td>9.790476e+01</td>\n",
       "    </tr>\n",
       "    <tr>\n",
       "      <th>13</th>\n",
       "      <td>7x7inc</td>\n",
       "      <td>SVM</td>\n",
       "      <td>9.773810e+01</td>\n",
       "    </tr>\n",
       "    <tr>\n",
       "      <th>9</th>\n",
       "      <td>7x7simple</td>\n",
       "      <td>SVM</td>\n",
       "      <td>9.740476e+01</td>\n",
       "    </tr>\n",
       "    <tr>\n",
       "      <th>21</th>\n",
       "      <td>9x9inc</td>\n",
       "      <td>SVM</td>\n",
       "      <td>9.714286e+01</td>\n",
       "    </tr>\n",
       "    <tr>\n",
       "      <th>7</th>\n",
       "      <td>5x5inc</td>\n",
       "      <td>KNN</td>\n",
       "      <td>9.678571e+01</td>\n",
       "    </tr>\n",
       "    <tr>\n",
       "      <th>3</th>\n",
       "      <td>5x5simple</td>\n",
       "      <td>KNN</td>\n",
       "      <td>9.661905e+01</td>\n",
       "    </tr>\n",
       "    <tr>\n",
       "      <th>17</th>\n",
       "      <td>9x9simple</td>\n",
       "      <td>SVM</td>\n",
       "      <td>9.630952e+01</td>\n",
       "    </tr>\n",
       "    <tr>\n",
       "      <th>15</th>\n",
       "      <td>7x7inc</td>\n",
       "      <td>KNN</td>\n",
       "      <td>9.588095e+01</td>\n",
       "    </tr>\n",
       "    <tr>\n",
       "      <th>11</th>\n",
       "      <td>7x7simple</td>\n",
       "      <td>KNN</td>\n",
       "      <td>9.488095e+01</td>\n",
       "    </tr>\n",
       "    <tr>\n",
       "      <th>23</th>\n",
       "      <td>9x9inc</td>\n",
       "      <td>KNN</td>\n",
       "      <td>9.435714e+01</td>\n",
       "    </tr>\n",
       "    <tr>\n",
       "      <th>19</th>\n",
       "      <td>9x9simple</td>\n",
       "      <td>KNN</td>\n",
       "      <td>9.254762e+01</td>\n",
       "    </tr>\n",
       "    <tr>\n",
       "      <th>4</th>\n",
       "      <td>5x5inc</td>\n",
       "      <td>Naive Bayes</td>\n",
       "      <td>7.714286e+01</td>\n",
       "    </tr>\n",
       "    <tr>\n",
       "      <th>0</th>\n",
       "      <td>5x5simple</td>\n",
       "      <td>Naive Bayes</td>\n",
       "      <td>7.614286e+01</td>\n",
       "    </tr>\n",
       "    <tr>\n",
       "      <th>12</th>\n",
       "      <td>7x7inc</td>\n",
       "      <td>Naive Bayes</td>\n",
       "      <td>7.333333e+01</td>\n",
       "    </tr>\n",
       "    <tr>\n",
       "      <th>8</th>\n",
       "      <td>7x7simple</td>\n",
       "      <td>Naive Bayes</td>\n",
       "      <td>7.102381e+01</td>\n",
       "    </tr>\n",
       "    <tr>\n",
       "      <th>20</th>\n",
       "      <td>9x9inc</td>\n",
       "      <td>Naive Bayes</td>\n",
       "      <td>7.038095e+01</td>\n",
       "    </tr>\n",
       "    <tr>\n",
       "      <th>16</th>\n",
       "      <td>9x9simple</td>\n",
       "      <td>Naive Bayes</td>\n",
       "      <td>6.723810e+01</td>\n",
       "    </tr>\n",
       "    <tr>\n",
       "      <th>6</th>\n",
       "      <td>5x5inc</td>\n",
       "      <td>Linear Regression</td>\n",
       "      <td>6.076248e+01</td>\n",
       "    </tr>\n",
       "    <tr>\n",
       "      <th>14</th>\n",
       "      <td>7x7inc</td>\n",
       "      <td>Linear Regression</td>\n",
       "      <td>6.060312e+01</td>\n",
       "    </tr>\n",
       "    <tr>\n",
       "      <th>2</th>\n",
       "      <td>5x5simple</td>\n",
       "      <td>Linear Regression</td>\n",
       "      <td>6.054374e+01</td>\n",
       "    </tr>\n",
       "    <tr>\n",
       "      <th>10</th>\n",
       "      <td>7x7simple</td>\n",
       "      <td>Linear Regression</td>\n",
       "      <td>6.049793e+01</td>\n",
       "    </tr>\n",
       "    <tr>\n",
       "      <th>22</th>\n",
       "      <td>9x9inc</td>\n",
       "      <td>Linear Regression</td>\n",
       "      <td>6.035210e+01</td>\n",
       "    </tr>\n",
       "    <tr>\n",
       "      <th>18</th>\n",
       "      <td>9x9simple</td>\n",
       "      <td>Linear Regression</td>\n",
       "      <td>-1.547079e+14</td>\n",
       "    </tr>\n",
       "  </tbody>\n",
       "</table>\n",
       "</div>"
      ],
      "text/plain": [
       "   FilterSize         Model Used      Accuracy\n",
       "5      5x5inc                SVM  9.811905e+01\n",
       "1   5x5simple                SVM  9.790476e+01\n",
       "13     7x7inc                SVM  9.773810e+01\n",
       "9   7x7simple                SVM  9.740476e+01\n",
       "21     9x9inc                SVM  9.714286e+01\n",
       "7      5x5inc                KNN  9.678571e+01\n",
       "3   5x5simple                KNN  9.661905e+01\n",
       "17  9x9simple                SVM  9.630952e+01\n",
       "15     7x7inc                KNN  9.588095e+01\n",
       "11  7x7simple                KNN  9.488095e+01\n",
       "23     9x9inc                KNN  9.435714e+01\n",
       "19  9x9simple                KNN  9.254762e+01\n",
       "4      5x5inc        Naive Bayes  7.714286e+01\n",
       "0   5x5simple        Naive Bayes  7.614286e+01\n",
       "12     7x7inc        Naive Bayes  7.333333e+01\n",
       "8   7x7simple        Naive Bayes  7.102381e+01\n",
       "20     9x9inc        Naive Bayes  7.038095e+01\n",
       "16  9x9simple        Naive Bayes  6.723810e+01\n",
       "6      5x5inc  Linear Regression  6.076248e+01\n",
       "14     7x7inc  Linear Regression  6.060312e+01\n",
       "2   5x5simple  Linear Regression  6.054374e+01\n",
       "10  7x7simple  Linear Regression  6.049793e+01\n",
       "22     9x9inc  Linear Regression  6.035210e+01\n",
       "18  9x9simple  Linear Regression -1.547079e+14"
      ]
     },
     "execution_count": 29,
     "metadata": {},
     "output_type": "execute_result"
    }
   ],
   "source": [
    "#checking Which combination has the highest Accuracy\n",
    "#dfacc.columns\n",
    "dfacc.sort_values('Accuracy',ascending=False)"
   ]
  },
  {
   "cell_type": "markdown",
   "id": "aggressive-klein",
   "metadata": {
    "papermill": {
     "duration": 0.075748,
     "end_time": "2021-04-25T03:03:06.882981",
     "exception": false,
     "start_time": "2021-04-25T03:03:06.807233",
     "status": "completed"
    },
    "tags": []
   },
   "source": [
    "## Highest Accurcy: 98.11% (Svm,5x5inc)"
   ]
  },
  {
   "cell_type": "markdown",
   "id": "south-announcement",
   "metadata": {
    "papermill": {
     "duration": 0.074723,
     "end_time": "2021-04-25T03:03:07.034391",
     "exception": false,
     "start_time": "2021-04-25T03:03:06.959668",
     "status": "completed"
    },
    "tags": []
   },
   "source": [
    "### Training the model for final Predictions"
   ]
  },
  {
   "cell_type": "code",
   "execution_count": 30,
   "id": "vanilla-tension",
   "metadata": {
    "execution": {
     "iopub.execute_input": "2021-04-25T03:03:07.193887Z",
     "iopub.status.busy": "2021-04-25T03:03:07.192877Z",
     "iopub.status.idle": "2021-04-25T03:04:03.165438Z",
     "shell.execute_reply": "2021-04-25T03:04:03.165978Z"
    },
    "papermill": {
     "duration": 56.056642,
     "end_time": "2021-04-25T03:04:03.166159",
     "exception": false,
     "start_time": "2021-04-25T03:03:07.109517",
     "status": "completed"
    },
    "tags": []
   },
   "outputs": [
    {
     "name": "stdout",
     "output_type": "stream",
     "text": [
      "[LibSVM]"
     ]
    },
    {
     "data": {
      "text/plain": [
       "SVC(C=9, random_state=42, verbose=True)"
      ]
     },
     "execution_count": 30,
     "metadata": {},
     "output_type": "execute_result"
    }
   ],
   "source": [
    "X = df5inc #Creating X for Train_test_split\n",
    "X_train, X_test, y_train, y_test = train_test_split(X, y, test_size=0.1, random_state=42) #spliting\n",
    "# ***************************** SVM *****************************\n",
    "svmModel = SVC(kernel=\"rbf\", random_state=42, verbose=True,C=9)\n",
    "svmModel.fit(X_train, y_train)"
   ]
  },
  {
   "cell_type": "markdown",
   "id": "stainless-furniture",
   "metadata": {
    "papermill": {
     "duration": 0.07407,
     "end_time": "2021-04-25T03:04:03.313935",
     "exception": false,
     "start_time": "2021-04-25T03:04:03.239865",
     "status": "completed"
    },
    "tags": []
   },
   "source": [
    "### Reducing the features with the same filter as used for training"
   ]
  },
  {
   "cell_type": "code",
   "execution_count": 31,
   "id": "integral-anaheim",
   "metadata": {
    "execution": {
     "iopub.execute_input": "2021-04-25T03:04:03.470222Z",
     "iopub.status.busy": "2021-04-25T03:04:03.469368Z",
     "iopub.status.idle": "2021-04-25T03:14:31.672087Z",
     "shell.execute_reply": "2021-04-25T03:14:31.671404Z"
    },
    "papermill": {
     "duration": 628.284638,
     "end_time": "2021-04-25T03:14:31.672264",
     "exception": false,
     "start_time": "2021-04-25T03:04:03.387626",
     "status": "completed"
    },
    "tags": []
   },
   "outputs": [
    {
     "name": "stdout",
     "output_type": "stream",
     "text": [
      "5000\n",
      "10000\n",
      "15000\n",
      "20000\n",
      "25000\n"
     ]
    }
   ],
   "source": [
    "test=pd.read_csv(\"../input/digit-recognizer/test.csv\")\n",
    "df=pd.DataFrame()\n",
    "arr = np.asarray(test)\n",
    "for i in range(len(test)):  #Looping through Every row\n",
    "    x = None  #Nullifying the variables for every iteration\n",
    "    ax = None\n",
    "    xRes = None\n",
    "    array_1d = None\n",
    "    \n",
    "    xRes = np.reshape(arr[i],(-1,28))  #reshaping the data to image size\n",
    "    x = scipy.signal.convolve2d(xRes, filter5inc, mode='valid') #Applying convolution with one of the two Filters \n",
    "    if i == 10000 or i==20000 or i==5000 or i==15000 or i==25000:     # Printing the iteration value to check the progress\n",
    "        print(i)\n",
    "    ax = x\n",
    "    array_1d = ax.flatten()   #flattening the convolve data to 1d array\n",
    "    df = df.append(pd.DataFrame(array_1d).T, ignore_index=True) #appending it to the new dataframe"
   ]
  },
  {
   "cell_type": "markdown",
   "id": "interpreted-digit",
   "metadata": {
    "papermill": {
     "duration": 0.076478,
     "end_time": "2021-04-25T03:14:31.824877",
     "exception": false,
     "start_time": "2021-04-25T03:14:31.748399",
     "status": "completed"
    },
    "tags": []
   },
   "source": [
    "### Making Predictions And saving the file"
   ]
  },
  {
   "cell_type": "code",
   "execution_count": 32,
   "id": "western-kinase",
   "metadata": {
    "execution": {
     "iopub.execute_input": "2021-04-25T03:14:31.983624Z",
     "iopub.status.busy": "2021-04-25T03:14:31.982556Z",
     "iopub.status.idle": "2021-04-25T03:16:12.169263Z",
     "shell.execute_reply": "2021-04-25T03:16:12.168490Z"
    },
    "papermill": {
     "duration": 100.266405,
     "end_time": "2021-04-25T03:16:12.169432",
     "exception": false,
     "start_time": "2021-04-25T03:14:31.903027",
     "status": "completed"
    },
    "tags": []
   },
   "outputs": [],
   "source": [
    "svmFinalpred=svmModel.predict(df)\n",
    "finalPred=pd.DataFrame(svmFinalpred,columns=[\"Label\"])\n",
    "finalPred['ImageId']=finalPred.index+1\n",
    "finalPred = finalPred.reindex(['ImageId','Label'], axis=1)\n",
    "finalPred.to_csv('./submition.csv',index=False)"
   ]
  },
  {
   "cell_type": "markdown",
   "id": "passing-friend",
   "metadata": {
    "papermill": {
     "duration": 0.077378,
     "end_time": "2021-04-25T03:16:12.326684",
     "exception": false,
     "start_time": "2021-04-25T03:16:12.249306",
     "status": "completed"
    },
    "tags": []
   },
   "source": [
    "## Finally I got 0.98082 Score on Kaggle."
   ]
  }
 ],
 "metadata": {
  "kernelspec": {
   "display_name": "Python 3",
   "language": "python",
   "name": "python3"
  },
  "language_info": {
   "codemirror_mode": {
    "name": "ipython",
    "version": 3
   },
   "file_extension": ".py",
   "mimetype": "text/x-python",
   "name": "python",
   "nbconvert_exporter": "python",
   "pygments_lexer": "ipython3",
   "version": "3.7.9"
  },
  "papermill": {
   "default_parameters": {},
   "duration": 10298.26628,
   "end_time": "2021-04-25T03:16:13.217139",
   "environment_variables": {},
   "exception": null,
   "input_path": "__notebook__.ipynb",
   "output_path": "__notebook__.ipynb",
   "parameters": {},
   "start_time": "2021-04-25T00:24:34.950859",
   "version": "2.3.2"
  }
 },
 "nbformat": 4,
 "nbformat_minor": 5
}
