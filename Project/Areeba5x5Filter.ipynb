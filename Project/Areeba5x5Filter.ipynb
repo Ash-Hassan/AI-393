{
 "cells": [
  {
   "cell_type": "code",
   "execution_count": 1,
   "id": "selective-weight",
   "metadata": {},
   "outputs": [],
   "source": [
    "import pandas as pd\n",
    "import scipy\n",
    "from scipy import signal\n",
    "import numpy as np\n",
    "from sklearn.model_selection import train_test_split\n",
    "from sklearn.naive_bayes import MultinomialNB\n",
    "from sklearn.linear_model import LinearRegression\n",
    "from sklearn.preprocessing import StandardScaler\n",
    "from sklearn.svm import SVC\n",
    "from sklearn.neighbors import KNeighborsClassifier\n",
    "from sklearn import metrics\n",
    "from sklearn.tree import DecisionTreeClassifier\n",
    "pd.set_option('display.max_colwidth', 500)"
   ]
  },
  {
   "cell_type": "code",
   "execution_count": 3,
   "id": "raised-offering",
   "metadata": {},
   "outputs": [],
   "source": [
    "df = pd.read_csv('C:\\\\Users\\\\TheBAWS\\\\Desktop\\\\AI\\\\Assign1\\\\train.csv')\n",
    "X = df.drop([\"label\"], axis=1)\n",
    "Y = df[\"label\"]"
   ]
  },
  {
   "cell_type": "code",
   "execution_count": 4,
   "id": "varied-penalty",
   "metadata": {},
   "outputs": [],
   "source": [
    "filter5 = np.array([[1 for x in range(5)] for y in range(5)])\n",
    "\n",
    "filter5inc = np.array([[1,1,1,1,1],\n",
    "                      [1,2,2,2,1],\n",
    "                      [1,2,3,2,1],\n",
    "                      [1,2,2,2,1],\n",
    "                      [1,1,1,1,1]])"
   ]
  },
  {
   "cell_type": "code",
   "execution_count": 5,
   "id": "suspended-runner",
   "metadata": {},
   "outputs": [
    {
     "name": "stdout",
     "output_type": "stream",
     "text": [
      "(5, 5) (5, 5)\n"
     ]
    }
   ],
   "source": [
    "print(filter5.shape,filter5inc.shape)"
   ]
  },
  {
   "cell_type": "code",
   "execution_count": 7,
   "id": "delayed-sustainability",
   "metadata": {},
   "outputs": [],
   "source": [
    "def checking(X,filters):\n",
    "    df=pd.DataFrame()\n",
    "    arr = np.asarray(X)\n",
    "    for i in range(0,42000):  #Looping through Every row\n",
    "        x = None  #Nullifying the variables for every iteration\n",
    "        ax = None\n",
    "        xRes = None\n",
    "        array_1d = None\n",
    "\n",
    "        xRes = np.reshape(arr[i],(-1,28))  #reshaping the data to image size\n",
    "        x = scipy.signal.convolve2d(xRes, filters, mode='valid') #Applying convolution with one of the two Filters \n",
    "        if i == 10000 or i==20000 or i==30000 or i==40000:     # Printing the iteration value to check the progress\n",
    "            print(i)\n",
    "        ax = x\n",
    "        array_1d = ax.flatten()   #flattening the convolve data to 1d array\n",
    "        df = df.append(pd.DataFrame(array_1d).T, ignore_index=True) #appending it to the new dataframe"
   ]
  },
  {
   "cell_type": "code",
   "execution_count": 8,
   "id": "destroyed-mainstream",
   "metadata": {},
   "outputs": [
    {
     "name": "stdout",
     "output_type": "stream",
     "text": [
      "10000\n",
      "20000\n",
      "30000\n",
      "40000\n"
     ]
    }
   ],
   "source": [
    "checking(X,filter5)"
   ]
  },
  {
   "cell_type": "code",
   "execution_count": 9,
   "id": "industrial-province",
   "metadata": {},
   "outputs": [],
   "source": [
    "df.to_csv(\"./filter5x5simple.csv\")"
   ]
  },
  {
   "cell_type": "code",
   "execution_count": 10,
   "id": "private-furniture",
   "metadata": {},
   "outputs": [
    {
     "name": "stdout",
     "output_type": "stream",
     "text": [
      "10000\n",
      "20000\n",
      "30000\n",
      "40000\n"
     ]
    }
   ],
   "source": [
    "checking(X,filter5inc)"
   ]
  },
  {
   "cell_type": "code",
   "execution_count": 11,
   "id": "billion-restaurant",
   "metadata": {},
   "outputs": [],
   "source": [
    "df.to_csv(\"./filter5x5inc.csv\")"
   ]
  }
 ],
 "metadata": {
  "kernelspec": {
   "display_name": "Python 3",
   "language": "python",
   "name": "python3"
  },
  "language_info": {
   "codemirror_mode": {
    "name": "ipython",
    "version": 3
   },
   "file_extension": ".py",
   "mimetype": "text/x-python",
   "name": "python",
   "nbconvert_exporter": "python",
   "pygments_lexer": "ipython3",
   "version": "3.7.4"
  }
 },
 "nbformat": 4,
 "nbformat_minor": 5
}
